{
 "cells": [
  {
   "cell_type": "markdown",
   "metadata": {},
   "source": [
    "### BCI Competition 2008 相関行列の検定\n",
    "今回は1人の被験者に絞って検定してみました"
   ]
  },
  {
   "cell_type": "markdown",
   "metadata": {},
   "source": [
    "脳波解析用のモジュール[MNE-Python](https://martinos.org/mne/stable/index.html)をインストール\n"
   ]
  },
  {
   "cell_type": "code",
   "execution_count": 1,
   "metadata": {
    "collapsed": false
   },
   "outputs": [
    {
     "data": {
      "text/plain": [
       "'0.14'"
      ]
     },
     "execution_count": 1,
     "metadata": {},
     "output_type": "execute_result"
    }
   ],
   "source": [
    "import pandas as pd\n",
    "import numpy as np\n",
    "from scipy.signal import correlate\n",
    "from scipy.stats import zscore, norm\n",
    "from statsmodels.sandbox.stats.multicomp import multipletests\n",
    "import matplotlib.pyplot as plt\n",
    "%matplotlib inline\n",
    "import mne\n",
    "mne.__version__"
   ]
  },
  {
   "cell_type": "code",
   "execution_count": 2,
   "metadata": {
    "collapsed": false
   },
   "outputs": [],
   "source": [
    "event_id = dict(left_hand=1, right_hand=2, feet=3, tongue=4)  # event ID"
   ]
  },
  {
   "cell_type": "markdown",
   "metadata": {},
   "source": [
    "epoch作成用の情報を入力"
   ]
  },
  {
   "cell_type": "code",
   "execution_count": 3,
   "metadata": {
    "collapsed": true
   },
   "outputs": [],
   "source": [
    "fs = 250 # Sampling frequency\n",
    "info = mne.create_info([\"ch\"+str(i) for i in range(25)], fs) #  Channel labels and sampling freq."
   ]
  },
  {
   "cell_type": "code",
   "execution_count": 4,
   "metadata": {
    "collapsed": false
   },
   "outputs": [],
   "source": [
    "events = pd.read_csv('./datasets/events_A01T.csv', header=None)\n",
    "events = np.array(events.astype(int))"
   ]
  },
  {
   "cell_type": "code",
   "execution_count": 5,
   "metadata": {
    "collapsed": true
   },
   "outputs": [],
   "source": [
    "# It takes a while\n",
    "eegs = pd.read_csv('./datasets/eeg_A01T.csv', header=None)"
   ]
  },
  {
   "cell_type": "code",
   "execution_count": 6,
   "metadata": {
    "collapsed": false
   },
   "outputs": [
    {
     "name": "stdout",
     "output_type": "stream",
     "text": [
      "Creating RawArray with float64 data, n_channels=25, n_times=677145\n",
      "    Range : 0 ... 677144 =      0.000 ...  2708.576 secs\n",
      "Ready.\n"
     ]
    }
   ],
   "source": [
    "raw = mne.io.array.RawArray(eegs, info)"
   ]
  },
  {
   "cell_type": "code",
   "execution_count": 7,
   "metadata": {
    "collapsed": false
   },
   "outputs": [
    {
     "name": "stdout",
     "output_type": "stream",
     "text": [
      "336 matching events found\n",
      "0 projection items activated\n",
      "Loading data for 336 events and 1501 original time points ...\n",
      "0 bad epochs dropped\n"
     ]
    }
   ],
   "source": [
    "epochs = mne.Epochs(raw, events, event_id, tmin=0.0, tmax=6.0, baseline=(None,0), preload=True, add_eeg_ref=False)"
   ]
  },
  {
   "cell_type": "code",
   "execution_count": 8,
   "metadata": {
    "collapsed": false
   },
   "outputs": [
    {
     "data": {
      "text/plain": [
       "<Epochs  |  n_events : 336 (all good), tmin : 0.0 (s), tmax : 6.0 (s), baseline : (None, 0), ~96.2 MB, data loaded,\n",
       " 'feet': 84, 'left_hand': 84, 'right_hand': 84, 'tongue': 84>"
      ]
     },
     "execution_count": 8,
     "metadata": {},
     "output_type": "execute_result"
    }
   ],
   "source": [
    "epochs"
   ]
  },
  {
   "cell_type": "code",
   "execution_count": 9,
   "metadata": {
    "collapsed": false
   },
   "outputs": [
    {
     "data": {
      "text/plain": [
       "(336, 25, 1501)"
      ]
     },
     "execution_count": 9,
     "metadata": {},
     "output_type": "execute_result"
    }
   ],
   "source": [
    "np.shape(epochs)\n",
    "# trial, ch, time"
   ]
  },
  {
   "cell_type": "markdown",
   "metadata": {},
   "source": [
    "信号処理における[相互相関係数](https://bsd.neuroinf.jp/wiki/%E7%9B%B8%E4%BA%92%E7%9B%B8%E9%96%A2%E8%A7%A3%E6%9E%90)"
   ]
  },
  {
   "cell_type": "code",
   "execution_count": 10,
   "metadata": {
    "collapsed": false
   },
   "outputs": [],
   "source": [
    "def make_connection_matrix(epochs):\n",
    "    ch_num = 22\n",
    "    trial_num = 84\n",
    "    cm_dict = {(trial, ch1, ch2): max(correlate(zscore(epochs[trial, ch1,:]), zscore(epochs[trial, ch2, :]))) for ch1 in range(ch_num) for ch2 in range(ch_num) for trial in range(trial_num) }\n",
    "    #convert dictionary to ndarray\n",
    "    cm =np.array([[[cm_dict[(trial, ch1, ch2)] for ch2 in range(ch_num)] for ch1 in range(ch_num)] for trial in range(trial_num)])\n",
    "    # Normalized connection matrix (3D np.array)\n",
    "    # cm_normed = np.array([(cm[trial, :, :] - cm[trial, :, :].min(0)) / cm[trial, :, :].ptp(0) for trial in range(trial_num)])\n",
    "    # 上の式だと相関行列が対角線に関して対象にならないので以下のように修正\n",
    "    cm_normed = np.array([(cm[trial, :, :] - cm[trial, :, :].min()) / cm[trial, :, :].ptp() for trial in range(trial_num)])\n",
    "    return cm_normed"
   ]
  },
  {
   "cell_type": "markdown",
   "metadata": {},
   "source": [
    "### 左手イメージ課題"
   ]
  },
  {
   "cell_type": "code",
   "execution_count": 11,
   "metadata": {
    "collapsed": false
   },
   "outputs": [],
   "source": [
    "# 3秒〜5秒間をimagery時の脳波として取り出す\n",
    "cm = make_connection_matrix(epochs['left_hand'].get_data()[:,0:22,750:1250])\n",
    "# 0秒〜2秒間をcue前の脳波として取り出す\n",
    "cm_pre = make_connection_matrix(epochs['left_hand'].get_data()[:,0:22,0:500])"
   ]
  },
  {
   "cell_type": "code",
   "execution_count": 12,
   "metadata": {
    "collapsed": false
   },
   "outputs": [
    {
     "data": {
      "image/png": "[encoded data removed]",
      "text/plain": [
       "<matplotlib.figure.Figure at 0x7fc1fec7da58>"
      ]
     },
     "metadata": {},
     "output_type": "display_data"
    }
   ],
   "source": [
    "plt.set_cmap('hot')\n",
    "plt.pcolor(cm_pre.mean(axis=0))\n",
    "plt.colorbar()\n",
    "plt.title('Connection Matrix Pre')\n",
    "plt.show()"
   ]
  },
  {
   "cell_type": "code",
   "execution_count": 13,
   "metadata": {
    "collapsed": false
   },
   "outputs": [
    {
     "data": {
      "image/png": "[encoded data removed]",
      "text/plain": [
       "<matplotlib.figure.Figure at 0x7fc1fec41e48>"
      ]
     },
     "metadata": {},
     "output_type": "display_data"
    }
   ],
   "source": [
    "plt.set_cmap('hot')\n",
    "plt.pcolor(cm.mean(axis=0))\n",
    "plt.colorbar()\n",
    "plt.title('Connection Matrix Post')\n",
    "plt.show()"
   ]
  },
  {
   "cell_type": "code",
   "execution_count": 14,
   "metadata": {
    "collapsed": false
   },
   "outputs": [
    {
     "data": {
      "image/png": "[encoded data removed]",
      "text/plain": [
       "<matplotlib.figure.Figure at 0x7fc16e306da0>"
      ]
     },
     "metadata": {},
     "output_type": "display_data"
    }
   ],
   "source": [
    "plt.set_cmap('hot')\n",
    "plt.pcolor(np.abs(cm.mean(axis=0) - cm_pre.mean(axis=0)))\n",
    "plt.colorbar()\n",
    "plt.title('Connection Matrix Post - Pre')\n",
    "plt.show()"
   ]
  },
  {
   "cell_type": "markdown",
   "metadata": {},
   "source": [
    "フィッシャーのz変換 相関係数を正規分布するように変換\n",
    "![fisherz](http://www.sist.ac.jp/~kanakubo/research/statistic/soukankeisuu9.png)"
   ]
  },
  {
   "cell_type": "code",
   "execution_count": 15,
   "metadata": {
    "collapsed": true
   },
   "outputs": [],
   "source": [
    "def fisher_z(r, n):\n",
    "    z = 0.5*np.log((1+r)/(1-r))\n",
    "    return z"
   ]
  },
  {
   "cell_type": "markdown",
   "metadata": {},
   "source": [
    "相関係数の差の検定\n",
    "\n",
    "参考サイト [http://www.koka.ac.jp/morigiwa/sjs/correlation_difference.htm](http://www.koka.ac.jp/morigiwa/sjs/correlation_difference.htm)"
   ]
  },
  {
   "cell_type": "code",
   "execution_count": 16,
   "metadata": {
    "collapsed": true
   },
   "outputs": [],
   "source": [
    "def cor_diff_test(r1, r2, n1, n2):\n",
    "    z1 = fisher_z(r1, n1)\n",
    "    z2 = fisher_z(r2, n2)\n",
    "    z = (z1 - z2)/(np.sqrt(1/(n1-3) + 1/(n2-3)))\n",
    "    p_value = norm.sf(abs(z))*2\n",
    "    return p_value"
   ]
  },
  {
   "cell_type": "code",
   "execution_count": 18,
   "metadata": {
    "collapsed": false
   },
   "outputs": [
    {
     "name": "stdout",
     "output_type": "stream",
     "text": [
      "ch1: ch2 p_value:0.009001111444637035\n",
      "ch1: ch3 p_value:0.7505044266728287\n",
      "ch1: ch4 p_value:0.9097785895746977\n",
      "ch1: ch5 p_value:0.5138155646607121\n",
      "ch1: ch6 p_value:0.08496676960687578\n",
      "ch1: ch7 p_value:0.45100604211732465\n",
      "ch1: ch8 p_value:0.9237034052274873\n",
      "ch1: ch9 p_value:0.5731117225909302\n",
      "ch1: ch10 p_value:0.6312060192027723\n",
      "ch1: ch11 p_value:0.32427548428823516\n",
      "ch1: ch12 p_value:0.42252942510626235\n",
      "ch1: ch13 p_value:0.4365551635817485\n",
      "ch1: ch14 p_value:0.33057124576290564\n",
      "ch1: ch15 p_value:0.27180930444508555\n",
      "ch1: ch16 p_value:0.45469776184004895\n",
      "ch1: ch17 p_value:0.21627891884702632\n",
      "ch1: ch18 p_value:0.14365886774373965\n",
      "ch1: ch19 p_value:0.5362086617890167\n",
      "ch1: ch20 p_value:0.35611793336475084\n",
      "ch1: ch21 p_value:0.5083072485666598\n",
      "ch1: ch22 p_value:0.9283090969789621\n",
      "ch2: ch3 p_value:0.00018380893551632523\n",
      "ch2: ch4 p_value:0.0026132343650595927\n",
      "ch2: ch5 p_value:0.00013000252684206118\n",
      "ch2: ch6 p_value:0.0002608991506719306\n",
      "ch2: ch7 p_value:0.6317879126794688\n",
      "ch2: ch8 p_value:0.7245424035111849\n",
      "ch2: ch9 p_value:0.01030070453750299\n",
      "ch2: ch10 p_value:0.007731752581201481\n",
      "ch2: ch11 p_value:0.004217098576618129\n",
      "ch2: ch12 p_value:0.09596038133287846\n",
      "ch2: ch13 p_value:0.012479186684148293\n",
      "ch2: ch14 p_value:0.4149747842450302\n",
      "ch2: ch15 p_value:0.34652155151297215\n",
      "ch2: ch16 p_value:0.21378722393963012\n",
      "ch2: ch17 p_value:0.20908466546243354\n",
      "ch2: ch18 p_value:0.586315993487591\n",
      "ch2: ch19 p_value:0.5816672874561213\n",
      "ch2: ch20 p_value:0.5564850633711984\n",
      "ch2: ch21 p_value:0.4373120953340116\n",
      "ch2: ch22 p_value:0.32657199387385794\n",
      "ch3: ch4 p_value:0.0003469374896021587\n",
      "ch3: ch5 p_value:0.0031892430484200106\n",
      "ch3: ch6 p_value:0.0014251925857014223\n",
      "ch3: ch7 p_value:0.6992869912152515\n",
      "ch3: ch8 p_value:0.8083438825230604\n",
      "ch3: ch9 p_value:0.514290453424094\n",
      "ch3: ch10 p_value:0.12346282751731338\n",
      "ch3: ch11 p_value:0.2073885450430849\n",
      "ch3: ch12 p_value:0.46502226600147734\n",
      "ch3: ch13 p_value:0.09816701350382846\n",
      "ch3: ch14 p_value:0.3967768111166029\n",
      "ch3: ch15 p_value:0.5155546279097574\n",
      "ch3: ch16 p_value:0.9603651226924531\n",
      "ch3: ch17 p_value:0.8803527541601285\n",
      "ch3: ch18 p_value:0.5597598088523001\n",
      "ch3: ch19 p_value:0.8442330402658618\n",
      "ch3: ch20 p_value:0.6615163576796173\n",
      "ch3: ch21 p_value:0.8381228663138371\n",
      "ch3: ch22 p_value:0.856881940789594\n",
      "ch4: ch5 p_value:0.0003125786702889721\n",
      "ch4: ch6 p_value:0.0023938905309603964\n",
      "ch4: ch7 p_value:0.3642560218402331\n",
      "ch4: ch8 p_value:0.7375087894974723\n",
      "ch4: ch9 p_value:0.13765694914131824\n",
      "ch4: ch10 p_value:0.5793334669220285\n",
      "ch4: ch11 p_value:0.2264157894726444\n",
      "ch4: ch12 p_value:0.8499767501569332\n",
      "ch4: ch13 p_value:0.13324241691729125\n",
      "ch4: ch14 p_value:0.3847252004968357\n",
      "ch4: ch15 p_value:0.88385393598558\n",
      "ch4: ch16 p_value:0.6651356719951274\n",
      "ch4: ch17 p_value:0.5553786348205285\n",
      "ch4: ch18 p_value:0.3022695399938933\n",
      "ch4: ch19 p_value:0.8431021460238112\n",
      "ch4: ch20 p_value:0.5819542570357705\n",
      "ch4: ch21 p_value:0.6875574721089421\n",
      "ch4: ch22 p_value:0.9253908567294306\n",
      "ch5: ch6 p_value:0.007246100015671311\n",
      "ch5: ch7 p_value:0.1911871617280828\n",
      "ch5: ch8 p_value:0.20717653212025355\n",
      "ch5: ch9 p_value:0.14232130773696297\n",
      "ch5: ch10 p_value:0.13880084816545776\n",
      "ch5: ch11 p_value:0.5120883989327395\n",
      "ch5: ch12 p_value:0.3806860729873277\n",
      "ch5: ch13 p_value:0.46672656067856433\n",
      "ch5: ch14 p_value:0.8794922753263947\n",
      "ch5: ch15 p_value:0.7419237135800283\n",
      "ch5: ch16 p_value:0.8784466566691261\n",
      "ch5: ch17 p_value:0.26061316751351504\n",
      "ch5: ch18 p_value:0.0638632378311079\n",
      "ch5: ch19 p_value:0.8846483870765252\n",
      "ch5: ch20 p_value:0.4712968477596041\n",
      "ch5: ch21 p_value:0.48089458246647476\n",
      "ch5: ch22 p_value:0.9970902556717903\n",
      "ch6: ch7 p_value:0.03496431953628304\n",
      "ch6: ch8 p_value:0.11089502391295715\n",
      "ch6: ch9 p_value:0.01759115394921862\n",
      "ch6: ch10 p_value:0.04572571909160566\n",
      "ch6: ch11 p_value:0.0764747357900753\n",
      "ch6: ch12 p_value:0.044761985669868706\n",
      "ch6: ch13 p_value:0.5058817758578389\n",
      "ch6: ch14 p_value:0.7144997916736269\n",
      "ch6: ch15 p_value:0.374722842699584\n",
      "ch6: ch16 p_value:0.5252978159393478\n",
      "ch6: ch17 p_value:0.9184120237679869\n",
      "ch6: ch18 p_value:0.10817702780414364\n",
      "ch6: ch19 p_value:0.7444660072641831\n",
      "ch6: ch20 p_value:0.8853903330789784\n",
      "ch6: ch21 p_value:0.7638587782061322\n",
      "ch6: ch22 p_value:0.7108439949615766\n",
      "ch7: ch8 p_value:0.08714823074940725\n",
      "ch7: ch9 p_value:0.20023409679279447\n",
      "ch7: ch10 p_value:0.14155310825426262\n",
      "ch7: ch11 p_value:0.11972060617879052\n",
      "ch7: ch12 p_value:0.08894412881535269\n",
      "ch7: ch13 p_value:0.020874432396500848\n",
      "ch7: ch14 p_value:0.1723123627233184\n",
      "ch7: ch15 p_value:0.11465289389550791\n",
      "ch7: ch16 p_value:0.06146424949089609\n",
      "ch7: ch17 p_value:0.10238365946833608\n",
      "ch7: ch18 p_value:0.26945833833617794\n",
      "ch7: ch19 p_value:0.09873869263482923\n",
      "ch7: ch20 p_value:0.16578924294961284\n",
      "ch7: ch21 p_value:0.17441454370915577\n",
      "ch7: ch22 p_value:0.10928439622270088\n",
      "ch8: ch9 p_value:0.012965857079792108\n",
      "ch8: ch10 p_value:0.11454198588342551\n",
      "ch8: ch11 p_value:0.06344102880169775\n",
      "ch8: ch12 p_value:0.2657180432585369\n",
      "ch8: ch13 p_value:0.038272278546225454\n",
      "ch8: ch14 p_value:0.9157447915745464\n",
      "ch8: ch15 p_value:0.02422490887217038\n",
      "ch8: ch16 p_value:0.07176379785027384\n",
      "ch8: ch17 p_value:0.17058353366047052\n",
      "ch8: ch18 p_value:0.7185048219292672\n",
      "ch8: ch19 p_value:0.22368830503511394\n",
      "ch8: ch20 p_value:0.35444364040295395\n",
      "ch8: ch21 p_value:0.4679040077885678\n",
      "ch8: ch22 p_value:0.26411078654867126\n",
      "ch9: ch10 p_value:0.0019068897170208803\n",
      "ch9: ch11 p_value:0.04823307220973622\n",
      "ch9: ch12 p_value:0.2014250193608026\n",
      "ch9: ch13 p_value:0.06868700050995662\n",
      "ch9: ch14 p_value:0.8343127692983603\n",
      "ch9: ch15 p_value:0.9378689900613228\n",
      "ch9: ch16 p_value:0.2824481734691068\n",
      "ch9: ch17 p_value:0.5194514626562629\n",
      "ch9: ch18 p_value:0.7747906470751715\n",
      "ch9: ch19 p_value:0.6959953605701832\n",
      "ch9: ch20 p_value:0.9876064772765927\n",
      "ch9: ch21 p_value:0.9514451530684754\n",
      "ch9: ch22 p_value:0.5154126598967331\n",
      "ch10: ch11 p_value:0.06074292329031902\n",
      "ch10: ch12 p_value:0.7081168363669953\n",
      "ch10: ch13 p_value:0.1007406812930527\n",
      "ch10: ch14 p_value:0.6635995950538152\n",
      "ch10: ch15 p_value:0.8491810443883906\n",
      "ch10: ch16 p_value:0.390567099754489\n",
      "ch10: ch17 p_value:0.681287626088354\n",
      "ch10: ch18 p_value:0.34595357080867306\n",
      "ch10: ch19 p_value:0.8687838874060498\n",
      "ch10: ch20 p_value:0.6796329613402217\n",
      "ch10: ch21 p_value:0.7844832299894985\n",
      "ch10: ch22 p_value:0.7194504430969857\n",
      "ch11: ch12 p_value:0.28727105070144765\n",
      "ch11: ch13 p_value:0.11639402409599406\n",
      "ch11: ch14 p_value:0.7702263979984744\n",
      "ch11: ch15 p_value:0.9384682425152115\n",
      "ch11: ch16 p_value:0.5833347926331711\n",
      "ch11: ch17 p_value:0.8469303925712941\n",
      "ch11: ch18 p_value:0.14840564969831946\n",
      "ch11: ch19 p_value:0.760899757057316\n",
      "ch11: ch20 p_value:0.7733683345676596\n",
      "ch11: ch21 p_value:0.8253772622541327\n",
      "ch11: ch22 p_value:0.6874936235968413\n",
      "ch12: ch13 p_value:0.03502144358024027\n",
      "ch12: ch14 p_value:0.8137411031204577\n",
      "ch12: ch15 p_value:0.4131713940566424\n",
      "ch12: ch16 p_value:0.37973063457147316\n",
      "ch12: ch17 p_value:0.123666862782099\n",
      "ch12: ch18 p_value:0.9049345642227917\n",
      "ch12: ch19 p_value:0.5561086592655939\n",
      "ch12: ch20 p_value:0.6859156816144767\n",
      "ch12: ch21 p_value:0.5220845021877808\n",
      "ch12: ch22 p_value:0.42907374066196446\n",
      "ch13: ch14 p_value:0.1046425886575534\n",
      "ch13: ch15 p_value:0.1269426231225887\n",
      "ch13: ch16 p_value:0.059171657585588205\n",
      "ch13: ch17 p_value:0.04768971234736004\n",
      "ch13: ch18 p_value:0.16533590662469533\n",
      "ch13: ch19 p_value:0.1866386092702954\n",
      "ch13: ch20 p_value:0.23722915330609684\n",
      "ch13: ch21 p_value:0.16722758629283252\n",
      "ch13: ch22 p_value:0.2656038289011907\n",
      "ch14: ch15 p_value:0.26588434257933646\n",
      "ch14: ch16 p_value:0.531179048654475\n",
      "ch14: ch17 p_value:0.6075217323419189\n",
      "ch14: ch18 p_value:0.9019777094385701\n",
      "ch14: ch19 p_value:0.15145623038823242\n",
      "ch14: ch20 p_value:0.5772207206445719\n",
      "ch14: ch21 p_value:0.8023196219238886\n",
      "ch14: ch22 p_value:0.3672534801529155\n",
      "ch15: ch16 p_value:0.08605169323026413\n",
      "ch15: ch17 p_value:0.4219616612906574\n",
      "ch15: ch18 p_value:0.8472290358432035\n",
      "ch15: ch19 p_value:0.1814251618960515\n",
      "ch15: ch20 p_value:0.6945435408092384\n",
      "ch15: ch21 p_value:0.8387042290296114\n",
      "ch15: ch22 p_value:0.4547501805335006\n",
      "ch16: ch17 p_value:0.1700991943119834\n",
      "ch16: ch18 p_value:0.8195238330964588\n",
      "ch16: ch19 p_value:0.12874199917227175\n",
      "ch16: ch20 p_value:0.4497822675850771\n",
      "ch16: ch21 p_value:0.4780846158660129\n",
      "ch16: ch22 p_value:0.34105264846311956\n",
      "ch17: ch18 p_value:0.2839009755129912\n",
      "ch17: ch19 p_value:0.2287981904023123\n",
      "ch17: ch20 p_value:0.3588325264539135\n",
      "ch17: ch21 p_value:0.14663848521120507\n",
      "ch17: ch22 p_value:0.3223865187700904\n",
      "ch18: ch19 p_value:0.8351130790387999\n",
      "ch18: ch20 p_value:0.9431216805151188\n",
      "ch18: ch21 p_value:0.3922919740383297\n",
      "ch18: ch22 p_value:0.5745527855667967\n",
      "ch19: ch20 p_value:0.17674538079303337\n",
      "ch19: ch21 p_value:0.7168714116384587\n",
      "ch19: ch22 p_value:0.5207669118075406\n",
      "ch20: ch21 p_value:0.9373622135668364\n",
      "ch20: ch22 p_value:0.5371406082077008\n",
      "ch21: ch22 p_value:0.726518656236107\n"
     ]
    }
   ],
   "source": [
    "p_values = []\n",
    "for i in range(22):\n",
    "    for j in range(22):\n",
    "        if i >= j:\n",
    "            continue\n",
    "        p_value = cor_diff_test(cm.mean(axis=0)[i,j], cm_pre.mean(axis=0)[i,j], 1500, 1500)\n",
    "        print(\"ch{0}: ch{1} p_value:{2}\".format(i+1,j+1,p_value))\n",
    "        p_values.append(p_value)"
   ]
  },
  {
   "cell_type": "code",
   "execution_count": 19,
   "metadata": {
    "collapsed": false
   },
   "outputs": [
    {
     "data": {
      "text/plain": [
       "(array([  0,  21,  22,  23,  24,  27,  28,  29,  31,  41,  42,  43,  60,\n",
       "         61,  78,  95,  97,  98, 100, 116, 126, 130, 132, 140, 141, 176, 189]),)"
      ]
     },
     "execution_count": 19,
     "metadata": {},
     "output_type": "execute_result"
    }
   ],
   "source": [
    "np.where(np.array(p_values) < 0.05)"
   ]
  },
  {
   "cell_type": "markdown",
   "metadata": {},
   "source": [
    "相関行列のすべての値に対して相関係数の検定を行う場合は、検定回数が多いことによる偶然の帰無仮設棄却を避けるため[FDR](https://www.slideshare.net/yuifu/fdr-kashiwar-3)などにより棄却水準を随時調整する必要がある"
   ]
  },
  {
   "cell_type": "code",
   "execution_count": 20,
   "metadata": {
    "collapsed": false
   },
   "outputs": [],
   "source": [
    "reject, pvals,_,_ = multipletests(p_values)"
   ]
  },
  {
   "cell_type": "code",
   "execution_count": 21,
   "metadata": {
    "collapsed": false
   },
   "outputs": [],
   "source": [
    "cnt = 0\n",
    "for i in range(22):\n",
    "    for j in range(22):\n",
    "        if i >= j:\n",
    "            continue\n",
    "        if(reject[cnt]):\n",
    "            print(\"ch{0}: ch{1} significant p_value:{2}\".format(i,j,p_values[cnt]))\n",
    "            cnt += 1"
   ]
  },
  {
   "cell_type": "markdown",
   "metadata": {},
   "source": [
    "### 右手"
   ]
  },
  {
   "cell_type": "code",
   "execution_count": 23,
   "metadata": {
    "collapsed": false
   },
   "outputs": [
    {
     "data": {
      "image/png": "[encoded data removed]",
      "text/plain": [
       "<matplotlib.figure.Figure at 0x7fc2012094e0>"
      ]
     },
     "metadata": {},
     "output_type": "display_data"
    },
    {
     "name": "stdout",
     "output_type": "stream",
     "text": [
      "ch1: ch2 p_value:0.05703400293427473\n",
      "ch1: ch3 p_value:0.1586942256926911\n",
      "ch1: ch4 p_value:0.81787126001844\n",
      "ch1: ch5 p_value:0.19466091058310275\n",
      "ch1: ch6 p_value:0.24702870119366005\n",
      "ch1: ch7 p_value:0.4199304954328601\n",
      "ch1: ch8 p_value:0.023610417004549106\n",
      "ch1: ch9 p_value:0.004024178404774785\n",
      "ch1: ch10 p_value:0.35778019575708697\n",
      "ch1: ch11 p_value:0.0826755951260547\n",
      "ch1: ch12 p_value:0.22118380560859108\n",
      "ch1: ch13 p_value:0.8839053700056536\n",
      "ch1: ch14 p_value:0.001857237880104942\n",
      "ch1: ch15 p_value:0.005873839213350421\n",
      "ch1: ch16 p_value:0.23943831242233726\n",
      "ch1: ch17 p_value:0.11053000275840688\n",
      "ch1: ch18 p_value:0.05513022171883008\n",
      "ch1: ch19 p_value:0.0899475583765278\n",
      "ch1: ch20 p_value:0.2716273926937437\n",
      "ch1: ch21 p_value:0.5010927796524056\n",
      "ch1: ch22 p_value:0.6981582757791789\n",
      "ch2: ch3 p_value:0.004386180575163471\n",
      "ch2: ch4 p_value:0.01230406553095024\n",
      "ch2: ch5 p_value:0.0028566250613961046\n",
      "ch2: ch6 p_value:0.009760075264801767\n",
      "ch2: ch7 p_value:0.35531407467657694\n",
      "ch2: ch8 p_value:3.6680905953243456e-05\n",
      "ch2: ch9 p_value:0.8570955826197253\n",
      "ch2: ch10 p_value:0.09450168632233509\n",
      "ch2: ch11 p_value:0.018678817900427098\n",
      "ch2: ch12 p_value:0.15358415015116866\n",
      "ch2: ch13 p_value:0.09450106462031051\n",
      "ch2: ch14 p_value:0.0004099580619908333\n",
      "ch2: ch15 p_value:0.49807370709892806\n",
      "ch2: ch16 p_value:0.32575696954206035\n",
      "ch2: ch17 p_value:0.21719938988135457\n",
      "ch2: ch18 p_value:0.6889013096553643\n",
      "ch2: ch19 p_value:0.7732022802547972\n",
      "ch2: ch20 p_value:0.48499209136606747\n",
      "ch2: ch21 p_value:0.22515677058232797\n",
      "ch2: ch22 p_value:0.12564255271747818\n",
      "ch3: ch4 p_value:0.07969391805246416\n",
      "ch3: ch5 p_value:0.18158059458005993\n",
      "ch3: ch6 p_value:0.07164079731176227\n",
      "ch3: ch7 p_value:0.37680609776933705\n",
      "ch3: ch8 p_value:0.0032235374810550567\n",
      "ch3: ch9 p_value:6.5575093183696744e-06\n",
      "ch3: ch10 p_value:0.5718456336632212\n",
      "ch3: ch11 p_value:0.8054624462497348\n",
      "ch3: ch12 p_value:0.7775981863534047\n",
      "ch3: ch13 p_value:0.6354961490614932\n",
      "ch3: ch14 p_value:0.0006297782113286628\n",
      "ch3: ch15 p_value:0.0032685979992438602\n",
      "ch3: ch16 p_value:0.7958782446491075\n",
      "ch3: ch17 p_value:0.6529339779505763\n",
      "ch3: ch18 p_value:0.35525852308028194\n",
      "ch3: ch19 p_value:0.20185601273430154\n",
      "ch3: ch20 p_value:0.613121489840313\n",
      "ch3: ch21 p_value:0.976887736077322\n",
      "ch3: ch22 p_value:0.4701790006077695\n",
      "ch4: ch5 p_value:0.004978733500509174\n",
      "ch4: ch6 p_value:0.02188687124045558\n",
      "ch4: ch7 p_value:0.9260892112875285\n",
      "ch4: ch8 p_value:0.026534134745168483\n",
      "ch4: ch9 p_value:0.07197699633893141\n",
      "ch4: ch10 p_value:0.8360025730336816\n",
      "ch4: ch11 p_value:0.7517614693368135\n",
      "ch4: ch12 p_value:0.6657129240304647\n",
      "ch4: ch13 p_value:0.5223316359411592\n",
      "ch4: ch14 p_value:0.0012098245047794634\n",
      "ch4: ch15 p_value:0.037802510077644035\n",
      "ch4: ch16 p_value:0.4633686704685748\n",
      "ch4: ch17 p_value:0.3138144781884332\n",
      "ch4: ch18 p_value:0.16121518983166128\n",
      "ch4: ch19 p_value:0.1904302856634167\n",
      "ch4: ch20 p_value:0.5354318034136687\n",
      "ch4: ch21 p_value:0.7795962064155677\n",
      "ch4: ch22 p_value:0.5383733769687202\n",
      "ch5: ch6 p_value:0.012851386904749705\n",
      "ch5: ch7 p_value:0.6576479756565217\n",
      "ch5: ch8 p_value:0.5558743569052488\n",
      "ch5: ch9 p_value:0.2514871057398592\n",
      "ch5: ch10 p_value:0.3113571977506222\n",
      "ch5: ch11 p_value:0.22662499524055824\n",
      "ch5: ch12 p_value:0.34168367028988966\n",
      "ch5: ch13 p_value:0.9029595728157379\n",
      "ch5: ch14 p_value:0.03190964857366635\n",
      "ch5: ch15 p_value:0.04768743933896897\n",
      "ch5: ch16 p_value:0.7475679386148689\n",
      "ch5: ch17 p_value:0.20848019328968315\n",
      "ch5: ch18 p_value:0.038435781244068205\n",
      "ch5: ch19 p_value:0.1933386261275375\n",
      "ch5: ch20 p_value:0.4451175782578547\n",
      "ch5: ch21 p_value:0.637982041639156\n",
      "ch5: ch22 p_value:0.729803020074997\n",
      "ch6: ch7 p_value:0.288515402335767\n",
      "ch6: ch8 p_value:0.9113238981825109\n",
      "ch6: ch9 p_value:0.6337261275601513\n",
      "ch6: ch10 p_value:0.1446620676443374\n",
      "ch6: ch11 p_value:0.3602212602929258\n",
      "ch6: ch12 p_value:0.0447815450208212\n",
      "ch6: ch13 p_value:0.8649492426661448\n",
      "ch6: ch14 p_value:0.09806970819275194\n",
      "ch6: ch15 p_value:0.5811172552050599\n",
      "ch6: ch16 p_value:0.9063435377132699\n",
      "ch6: ch17 p_value:0.5169633319462522\n",
      "ch6: ch18 p_value:0.05294179352862208\n",
      "ch6: ch19 p_value:0.3141105758785374\n",
      "ch6: ch20 p_value:0.6478316776282506\n",
      "ch6: ch21 p_value:0.7788721332058195\n",
      "ch6: ch22 p_value:0.7207347055184967\n",
      "ch7: ch8 p_value:0.11000587583991521\n",
      "ch7: ch9 p_value:0.9776097435962283\n",
      "ch7: ch10 p_value:0.4383130819755211\n",
      "ch7: ch11 p_value:0.1812927095904594\n",
      "ch7: ch12 p_value:0.08152763112434921\n",
      "ch7: ch13 p_value:0.08655674179071571\n",
      "ch7: ch14 p_value:0.14447203210948772\n",
      "ch7: ch15 p_value:0.08334479891294205\n",
      "ch7: ch16 p_value:0.02756635266208918\n",
      "ch7: ch17 p_value:0.03968520180057869\n",
      "ch7: ch18 p_value:0.16119357713937243\n",
      "ch7: ch19 p_value:0.02994086094843804\n",
      "ch7: ch20 p_value:0.022025280294862365\n",
      "ch7: ch21 p_value:0.013557521958299786\n",
      "ch7: ch22 p_value:0.010540840738271853\n",
      "ch8: ch9 p_value:0.8225083501009605\n",
      "ch8: ch10 p_value:0.11924596163250012\n",
      "ch8: ch11 p_value:0.5414789653926297\n",
      "ch8: ch12 p_value:0.7020337022544043\n",
      "ch8: ch13 p_value:0.22604454043917988\n",
      "ch8: ch14 p_value:0.000529172711181474\n",
      "ch8: ch15 p_value:0.1920229041497994\n",
      "ch8: ch16 p_value:0.21302539205212456\n",
      "ch8: ch17 p_value:0.33622110723456566\n",
      "ch8: ch18 p_value:0.7952113902585807\n",
      "ch8: ch19 p_value:0.24841321206483502\n",
      "ch8: ch20 p_value:0.1790681176090846\n",
      "ch8: ch21 p_value:0.13793599777119855\n",
      "ch8: ch22 p_value:0.12567347645600718\n",
      "ch9: ch10 p_value:0.009093129711153764\n",
      "ch9: ch11 p_value:0.8924166617458484\n",
      "ch9: ch12 p_value:0.9667832251511125\n",
      "ch9: ch13 p_value:0.4081115827548508\n",
      "ch9: ch14 p_value:0.000142232245934885\n",
      "ch9: ch15 p_value:0.0020842917885438897\n",
      "ch9: ch16 p_value:0.7020975371309897\n",
      "ch9: ch17 p_value:0.7567686375863638\n",
      "ch9: ch18 p_value:0.16345950114559804\n",
      "ch9: ch19 p_value:0.4734269369002191\n",
      "ch9: ch20 p_value:0.9307765157307771\n",
      "ch9: ch21 p_value:0.7302650370795762\n",
      "ch9: ch22 p_value:0.6834760758528604\n",
      "ch10: ch11 p_value:0.17841036827682644\n",
      "ch10: ch12 p_value:0.514384805614605\n",
      "ch10: ch13 p_value:0.5131214517759027\n",
      "ch10: ch14 p_value:0.0035608214803185727\n",
      "ch10: ch15 p_value:0.0039393146973956345\n",
      "ch10: ch16 p_value:0.2717569110528002\n",
      "ch10: ch17 p_value:0.5486775035678366\n",
      "ch10: ch18 p_value:0.3595011584388743\n",
      "ch10: ch19 p_value:0.29997543781901004\n",
      "ch10: ch20 p_value:0.6194201897672919\n",
      "ch10: ch21 p_value:0.9044896079744977\n",
      "ch10: ch22 p_value:0.4896160593419172\n",
      "ch11: ch12 p_value:0.7096443606676011\n",
      "ch11: ch13 p_value:0.5279593222558986\n",
      "ch11: ch14 p_value:0.13823594797629551\n",
      "ch11: ch15 p_value:0.10691793246149783\n",
      "ch11: ch16 p_value:0.6810410695474158\n",
      "ch11: ch17 p_value:0.31748303410609924\n",
      "ch11: ch18 p_value:0.014925297463552017\n",
      "ch11: ch19 p_value:0.27725169473012035\n",
      "ch11: ch20 p_value:0.5514404124048868\n",
      "ch11: ch21 p_value:0.7906009796719482\n",
      "ch11: ch22 p_value:0.7600462512488615\n",
      "ch12: ch13 p_value:0.6875668598139599\n",
      "ch12: ch14 p_value:0.4436200305352652\n",
      "ch12: ch15 p_value:0.8648925823437599\n",
      "ch12: ch16 p_value:0.6016427057215397\n",
      "ch12: ch17 p_value:0.7023903716996736\n",
      "ch12: ch18 p_value:0.3051640429239494\n",
      "ch12: ch19 p_value:0.5106807128947006\n",
      "ch12: ch20 p_value:0.8984781023599939\n",
      "ch12: ch21 p_value:0.7189313889759983\n",
      "ch12: ch22 p_value:0.6055277958817363\n",
      "ch13: ch14 p_value:0.840019082663457\n",
      "ch13: ch15 p_value:0.5532960275808588\n",
      "ch13: ch16 p_value:0.3007689596310743\n",
      "ch13: ch17 p_value:0.4767623438698646\n",
      "ch13: ch18 p_value:0.5532115900534433\n",
      "ch13: ch19 p_value:0.9420097540175787\n",
      "ch13: ch20 p_value:0.7401350236960557\n",
      "ch13: ch21 p_value:0.44617209898545396\n",
      "ch13: ch22 p_value:0.7980335313258631\n",
      "ch14: ch15 p_value:0.8747419689795719\n",
      "ch14: ch16 p_value:0.7194512788871747\n",
      "ch14: ch17 p_value:0.6497194029354212\n",
      "ch14: ch18 p_value:0.45887569582788124\n",
      "ch14: ch19 p_value:0.06743530720172511\n",
      "ch14: ch20 p_value:0.27936056508309204\n",
      "ch14: ch21 p_value:0.3694145225432335\n",
      "ch14: ch22 p_value:0.11245245902802052\n",
      "ch15: ch16 p_value:0.2636583655904431\n",
      "ch15: ch17 p_value:0.8035765801343756\n",
      "ch15: ch18 p_value:0.1681724166853168\n",
      "ch15: ch19 p_value:0.19560122532186408\n",
      "ch15: ch20 p_value:0.2374435454370467\n",
      "ch15: ch21 p_value:0.35804780995308916\n",
      "ch15: ch22 p_value:0.3111015510604117\n",
      "ch16: ch17 p_value:0.32710374275210896\n",
      "ch16: ch18 p_value:0.3320132706086506\n",
      "ch16: ch19 p_value:0.8816792506538224\n",
      "ch16: ch20 p_value:0.40431348106600595\n",
      "ch16: ch21 p_value:0.34703024965211826\n",
      "ch16: ch22 p_value:0.4060454662217474\n",
      "ch17: ch18 p_value:0.001136005307333745\n",
      "ch17: ch19 p_value:0.40409557622453374\n",
      "ch17: ch20 p_value:0.6116206634937916\n",
      "ch17: ch21 p_value:0.7523445489311368\n",
      "ch17: ch22 p_value:0.838969264824531\n",
      "ch18: ch19 p_value:0.12556969626470973\n",
      "ch18: ch20 p_value:0.12274045395128459\n",
      "ch18: ch21 p_value:0.2748456639363659\n",
      "ch18: ch22 p_value:0.942694726945281\n",
      "ch19: ch20 p_value:0.894747328596588\n",
      "ch19: ch21 p_value:0.962104235225374\n",
      "ch19: ch22 p_value:0.8321877432206242\n",
      "ch20: ch21 p_value:0.7803222279418234\n",
      "ch20: ch22 p_value:0.9971119552171049\n",
      "ch21: ch22 p_value:0.7951208743406579\n"
     ]
    },
    {
     "data": {
      "text/plain": [
       "(array([  6,   7,  12,  13,  21,  22,  23,  24,  26,  29,  32,  45,  46,\n",
       "         51,  52,  60,  61,  63,  69,  70,  78,  86,  87,  90, 100, 119,\n",
       "        120, 122, 123, 124, 125, 131, 140, 144, 145, 156, 157, 171, 216]),)"
      ]
     },
     "execution_count": 23,
     "metadata": {},
     "output_type": "execute_result"
    }
   ],
   "source": [
    "cm = make_connection_matrix(epochs['right_hand'].get_data()[:,0:22,750:1250])\n",
    "cm_pre = make_connection_matrix(epochs['right_hand'].get_data()[:,0:22,0:500])\n",
    "plt.set_cmap('hot')\n",
    "plt.pcolor(np.abs(cm.mean(axis=0) - cm_pre.mean(axis=0)))\n",
    "plt.colorbar()\n",
    "plt.title('Connection Matrix Post - Pre')\n",
    "plt.show()\n",
    "p_values = []\n",
    "for i in range(22):\n",
    "    for j in range(22):\n",
    "        if i >= j:\n",
    "            continue\n",
    "        p_value = cor_diff_test(cm.mean(axis=0)[i,j], cm_pre.mean(axis=0)[i,j], 1500, 1500)\n",
    "        print(\"ch{0}: ch{1} p_value:{2}\".format(i+1,j+1,p_value))\n",
    "        p_values.append(p_value)\n",
    "np.where(np.array(p_values) < 0.05)"
   ]
  },
  {
   "cell_type": "markdown",
   "metadata": {},
   "source": [
    "### 足"
   ]
  },
  {
   "cell_type": "code",
   "execution_count": 25,
   "metadata": {
    "collapsed": false
   },
   "outputs": [
    {
     "data": {
      "image/png": "[encoded data removed]",
      "text/plain": [
       "<matplotlib.figure.Figure at 0x7fc20074b4a8>"
      ]
     },
     "metadata": {},
     "output_type": "display_data"
    },
    {
     "name": "stdout",
     "output_type": "stream",
     "text": [
      "ch1: ch2 p_value:0.5017073584778655\n",
      "ch1: ch3 p_value:0.10305629202465683\n",
      "ch1: ch4 p_value:0.06471410377826584\n",
      "ch1: ch5 p_value:0.04558409415345842\n",
      "ch1: ch6 p_value:0.38606521013344597\n",
      "ch1: ch7 p_value:0.8282896710003924\n",
      "ch1: ch8 p_value:0.6926319284895677\n",
      "ch1: ch9 p_value:0.3906388819266494\n",
      "ch1: ch10 p_value:0.16821566601829208\n",
      "ch1: ch11 p_value:0.09730924903751834\n",
      "ch1: ch12 p_value:0.7391218055471436\n",
      "ch1: ch13 p_value:0.20480711366035032\n",
      "ch1: ch14 p_value:0.1851016080392779\n",
      "ch1: ch15 p_value:0.8746959895856772\n",
      "ch1: ch16 p_value:0.28255988903022833\n",
      "ch1: ch17 p_value:0.3965073432375942\n",
      "ch1: ch18 p_value:0.9626538872368995\n",
      "ch1: ch19 p_value:0.3783333369648041\n",
      "ch1: ch20 p_value:0.7248970296781523\n",
      "ch1: ch21 p_value:0.7589407552487604\n",
      "ch1: ch22 p_value:0.9557864138527891\n",
      "ch2: ch3 p_value:0.9595651175392472\n",
      "ch2: ch4 p_value:0.3762196446178657\n",
      "ch2: ch5 p_value:0.09080026745116078\n",
      "ch2: ch6 p_value:0.11923441350371626\n",
      "ch2: ch7 p_value:0.8238393815094626\n",
      "ch2: ch8 p_value:0.584974581738493\n",
      "ch2: ch9 p_value:0.5805636722190728\n",
      "ch2: ch10 p_value:0.35633123887292995\n",
      "ch2: ch11 p_value:0.10622859499692884\n",
      "ch2: ch12 p_value:0.029377485351854644\n",
      "ch2: ch13 p_value:0.6462042543196345\n",
      "ch2: ch14 p_value:0.028837392194681594\n",
      "ch2: ch15 p_value:0.2520028609970085\n",
      "ch2: ch16 p_value:0.48115232412291953\n",
      "ch2: ch17 p_value:0.1752405209100304\n",
      "ch2: ch18 p_value:0.03738486791023047\n",
      "ch2: ch19 p_value:0.10297511186544364\n",
      "ch2: ch20 p_value:0.37604494888277384\n",
      "ch2: ch21 p_value:0.2226443255468672\n",
      "ch2: ch22 p_value:0.3894590292222089\n",
      "ch3: ch4 p_value:0.832541638707048\n",
      "ch3: ch5 p_value:0.3010401377445139\n",
      "ch3: ch6 p_value:0.3753923717414177\n",
      "ch3: ch7 p_value:0.6251494499621048\n",
      "ch3: ch8 p_value:0.5225508635084205\n",
      "ch3: ch9 p_value:0.6048948843239017\n",
      "ch3: ch10 p_value:0.9695858005482569\n",
      "ch3: ch11 p_value:0.531117963030391\n",
      "ch3: ch12 p_value:0.16792736418688792\n",
      "ch3: ch13 p_value:0.8886107454153096\n",
      "ch3: ch14 p_value:0.08657576950861193\n",
      "ch3: ch15 p_value:0.5318442182198349\n",
      "ch3: ch16 p_value:0.8794585980678672\n",
      "ch3: ch17 p_value:0.6836772146713119\n",
      "ch3: ch18 p_value:0.1929193768473456\n",
      "ch3: ch19 p_value:0.15682085262958584\n",
      "ch3: ch20 p_value:0.747934960129848\n",
      "ch3: ch21 p_value:0.5516153428136803\n",
      "ch3: ch22 p_value:0.6413309910541577\n",
      "ch4: ch5 p_value:0.6047593204029549\n",
      "ch4: ch6 p_value:0.758787943480093\n",
      "ch4: ch7 p_value:0.9731534975551988\n",
      "ch4: ch8 p_value:0.2387608469645136\n",
      "ch4: ch9 p_value:0.7456899367768581\n",
      "ch4: ch10 p_value:0.3775326247108466\n",
      "ch4: ch11 p_value:0.8700653254121746\n",
      "ch4: ch12 p_value:0.3891919536035251\n",
      "ch4: ch13 p_value:0.7465770597887996\n",
      "ch4: ch14 p_value:0.08339983201212513\n",
      "ch4: ch15 p_value:0.5214991177329397\n",
      "ch4: ch16 p_value:0.5295795978920976\n",
      "ch4: ch17 p_value:0.9668259242178334\n",
      "ch4: ch18 p_value:0.313493807185276\n",
      "ch4: ch19 p_value:0.19390416450259873\n",
      "ch4: ch20 p_value:0.913049362689252\n",
      "ch4: ch21 p_value:0.7248097456844723\n",
      "ch4: ch22 p_value:0.8361028459521516\n",
      "ch5: ch6 p_value:0.3239573006943587\n",
      "ch5: ch7 p_value:0.531549723209543\n",
      "ch5: ch8 p_value:0.054272188665071226\n",
      "ch5: ch9 p_value:0.2521181817965268\n",
      "ch5: ch10 p_value:0.9768027989091634\n",
      "ch5: ch11 p_value:0.27683025394272187\n",
      "ch5: ch12 p_value:0.31513831900458256\n",
      "ch5: ch13 p_value:0.9561847150979288\n",
      "ch5: ch14 p_value:0.05310569305893333\n",
      "ch5: ch15 p_value:0.39911772754124175\n",
      "ch5: ch16 p_value:0.590044863300785\n",
      "ch5: ch17 p_value:0.6913598459623864\n",
      "ch5: ch18 p_value:0.40237512703916034\n",
      "ch5: ch19 p_value:0.20143694894192665\n",
      "ch5: ch20 p_value:0.9294265700110206\n",
      "ch5: ch21 p_value:0.9761459373654566\n",
      "ch5: ch22 p_value:0.892062861887768\n",
      "ch6: ch7 p_value:0.3700820495794088\n",
      "ch6: ch8 p_value:0.049877608959086224\n",
      "ch6: ch9 p_value:0.24423491055143853\n",
      "ch6: ch10 p_value:0.7591244657908827\n",
      "ch6: ch11 p_value:0.7820945191545914\n",
      "ch6: ch12 p_value:0.6107205996182854\n",
      "ch6: ch13 p_value:0.7768604596200537\n",
      "ch6: ch14 p_value:0.05147110073723949\n",
      "ch6: ch15 p_value:0.38520368696329643\n",
      "ch6: ch16 p_value:0.684329249318076\n",
      "ch6: ch17 p_value:0.5485767790929436\n",
      "ch6: ch18 p_value:0.7177475616135238\n",
      "ch6: ch19 p_value:0.3075906028882026\n",
      "ch6: ch20 p_value:0.775941451147754\n",
      "ch6: ch21 p_value:0.7528535859078699\n",
      "ch6: ch22 p_value:0.593082791821044\n",
      "ch7: ch8 p_value:0.7225461034985821\n",
      "ch7: ch9 p_value:0.8080365137853678\n",
      "ch7: ch10 p_value:0.604853494582021\n",
      "ch7: ch11 p_value:0.14427243231895437\n",
      "ch7: ch12 p_value:0.016396572406526866\n",
      "ch7: ch13 p_value:0.24162041764156517\n",
      "ch7: ch14 p_value:0.15828693149625728\n",
      "ch7: ch15 p_value:0.6079497367248117\n",
      "ch7: ch16 p_value:0.33575082344355045\n",
      "ch7: ch17 p_value:0.06039778455213973\n",
      "ch7: ch18 p_value:0.004337985650587087\n",
      "ch7: ch19 p_value:0.2674745048979066\n",
      "ch7: ch20 p_value:0.32463507300563765\n",
      "ch7: ch21 p_value:0.0985494907325404\n",
      "ch7: ch22 p_value:0.4672590679098596\n",
      "ch8: ch9 p_value:0.09908694846862576\n",
      "ch8: ch10 p_value:0.005596079763361542\n",
      "ch8: ch11 p_value:0.0011730992529934306\n",
      "ch8: ch12 p_value:0.00010796411985609162\n",
      "ch8: ch13 p_value:0.09382261346806528\n",
      "ch8: ch14 p_value:0.00691433440940712\n",
      "ch8: ch15 p_value:0.022908934667923847\n",
      "ch8: ch16 p_value:0.010271670730695402\n",
      "ch8: ch17 p_value:0.0013145723395414492\n",
      "ch8: ch18 p_value:0.000199565749342949\n",
      "ch8: ch19 p_value:0.07996799984222643\n",
      "ch8: ch20 p_value:0.12454862476220084\n",
      "ch8: ch21 p_value:0.03530487130660811\n",
      "ch8: ch22 p_value:0.4353141996338453\n",
      "ch9: ch10 p_value:0.05494769636797832\n",
      "ch9: ch11 p_value:0.003326774511314724\n",
      "ch9: ch12 p_value:0.004610854539555272\n",
      "ch9: ch13 p_value:0.45447065388823793\n",
      "ch9: ch14 p_value:0.06411784368448464\n",
      "ch9: ch15 p_value:0.23543280375583364\n",
      "ch9: ch16 p_value:0.4847971162037227\n",
      "ch9: ch17 p_value:0.059855182002515446\n",
      "ch9: ch18 p_value:0.007625094503212263\n",
      "ch9: ch19 p_value:0.18330828928395715\n",
      "ch9: ch20 p_value:0.6473847445143526\n",
      "ch9: ch21 p_value:0.2815517168072207\n",
      "ch9: ch22 p_value:0.8462769864658957\n",
      "ch10: ch11 p_value:0.12863791294797486\n",
      "ch10: ch12 p_value:0.016299579000074862\n",
      "ch10: ch13 p_value:0.8893991697551504\n",
      "ch10: ch14 p_value:0.018619490230927495\n",
      "ch10: ch15 p_value:0.09690726730829356\n",
      "ch10: ch16 p_value:0.6978245714321663\n",
      "ch10: ch17 p_value:0.39059620069272105\n",
      "ch10: ch18 p_value:0.04687445999643905\n",
      "ch10: ch19 p_value:0.11676255895617307\n",
      "ch10: ch20 p_value:0.8289918507476294\n",
      "ch10: ch21 p_value:0.5654864161406159\n",
      "ch10: ch22 p_value:0.9971160749435813\n",
      "ch11: ch12 p_value:0.05804458860103123\n",
      "ch11: ch13 p_value:0.8745534303109342\n",
      "ch11: ch14 p_value:0.003498311296298789\n",
      "ch11: ch15 p_value:0.01002613744434789\n",
      "ch11: ch16 p_value:0.47621650803212845\n",
      "ch11: ch17 p_value:0.6632401426852946\n",
      "ch11: ch18 p_value:0.07850995177833235\n",
      "ch11: ch19 p_value:0.03509564418119479\n",
      "ch11: ch20 p_value:0.570736751657519\n",
      "ch11: ch21 p_value:0.5929560919829941\n",
      "ch11: ch22 p_value:0.8999858509198873\n",
      "ch12: ch13 p_value:0.7274045955844269\n",
      "ch12: ch14 p_value:0.0003946659046249934\n",
      "ch12: ch15 p_value:0.0035517265930076897\n",
      "ch12: ch16 p_value:0.049478036599533363\n",
      "ch12: ch17 p_value:0.47477614354386755\n",
      "ch12: ch18 p_value:0.6541739595510946\n",
      "ch12: ch19 p_value:0.018606031335801847\n",
      "ch12: ch20 p_value:0.32150250696002347\n",
      "ch12: ch21 p_value:0.7391747136355142\n",
      "ch12: ch22 p_value:0.9599837083149817\n",
      "ch13: ch14 p_value:0.05677146190311578\n",
      "ch13: ch15 p_value:0.3668207024645186\n",
      "ch13: ch16 p_value:0.8921863698869574\n",
      "ch13: ch17 p_value:0.42263585313110963\n",
      "ch13: ch18 p_value:0.311731787495343\n",
      "ch13: ch19 p_value:0.4076004958384918\n",
      "ch13: ch20 p_value:0.7126454415442177\n",
      "ch13: ch21 p_value:0.3731249616187454\n",
      "ch13: ch22 p_value:0.2463558277428104\n",
      "ch14: ch15 p_value:0.21381288267963772\n",
      "ch14: ch16 p_value:0.0034105726380913816\n",
      "ch14: ch17 p_value:0.0006301012100232725\n",
      "ch14: ch18 p_value:6.758038040720931e-05\n",
      "ch14: ch19 p_value:0.49742058454973725\n",
      "ch14: ch20 p_value:0.09331080500460373\n",
      "ch14: ch21 p_value:0.010607376522304177\n",
      "ch14: ch22 p_value:0.5011718383561643\n",
      "ch15: ch16 p_value:0.032371588006623014\n",
      "ch15: ch17 p_value:0.001708165262478782\n",
      "ch15: ch18 p_value:0.0006232141480307089\n",
      "ch15: ch19 p_value:0.36294709580449924\n",
      "ch15: ch20 p_value:0.5564611720550988\n",
      "ch15: ch21 p_value:0.08736037263384729\n",
      "ch15: ch22 p_value:0.9640685562583182\n",
      "ch16: ch17 p_value:0.022886643910987523\n",
      "ch16: ch18 p_value:0.0027090161746392036\n",
      "ch16: ch19 p_value:0.014407491466926062\n",
      "ch16: ch20 p_value:0.37706721807885246\n",
      "ch16: ch21 p_value:0.16853236950647443\n",
      "ch16: ch22 p_value:0.9139775044505236\n",
      "ch17: ch18 p_value:0.01718426730409205\n",
      "ch17: ch19 p_value:0.005012020817577802\n",
      "ch17: ch20 p_value:0.32639815238099146\n",
      "ch17: ch21 p_value:0.7398464396245226\n",
      "ch17: ch22 p_value:0.9638019493987937\n",
      "ch18: ch19 p_value:0.0014327048057560048\n",
      "ch18: ch20 p_value:0.04195606302388961\n",
      "ch18: ch21 p_value:0.35663488155334544\n",
      "ch18: ch22 p_value:0.8215492310913718\n",
      "ch19: ch20 p_value:0.0013900959291223006\n",
      "ch19: ch21 p_value:0.0014142727352855283\n",
      "ch19: ch22 p_value:0.5489754957709267\n",
      "ch20: ch21 p_value:0.025596073011502008\n",
      "ch20: ch22 p_value:0.6391891384330768\n",
      "ch21: ch22 p_value:0.9677708765593953\n"
     ]
    },
    {
     "data": {
      "text/plain": [
       "(array([  3,  30,  32,  36,  96, 115, 121, 127, 128, 129, 131, 132, 133,\n",
       "        134, 135, 138, 141, 142, 148, 154, 156, 160, 167, 168, 172, 177,\n",
       "        178, 179, 182, 196, 197, 198, 201, 203, 204, 205, 210, 211, 212,\n",
       "        216, 217, 221, 222, 225, 226, 228]),)"
      ]
     },
     "execution_count": 25,
     "metadata": {},
     "output_type": "execute_result"
    }
   ],
   "source": [
    "cm = make_connection_matrix(epochs['feet'].get_data()[:,0:22,750:1250])\n",
    "cm_pre = make_connection_matrix(epochs['feet'].get_data()[:,0:22,0:500])\n",
    "plt.set_cmap('hot')\n",
    "plt.pcolor(np.abs(cm.mean(axis=0) - cm_pre.mean(axis=0)))\n",
    "plt.colorbar()\n",
    "plt.title('Connection Matrix Post - Pre')\n",
    "plt.show()\n",
    "p_values = []\n",
    "for i in range(22):\n",
    "    for j in range(22):\n",
    "        if i >= j:\n",
    "            continue\n",
    "        p_value = cor_diff_test(cm.mean(axis=0)[i,j], cm_pre.mean(axis=0)[i,j], 1500, 1500)\n",
    "        print(\"ch{0}: ch{1} p_value:{2}\".format(i+1,j+1,p_value))\n",
    "        p_values.append(p_value)\n",
    "np.where(np.array(p_values) < 0.05)"
   ]
  },
  {
   "cell_type": "markdown",
   "metadata": {},
   "source": [
    "### 舌"
   ]
  },
  {
   "cell_type": "code",
   "execution_count": 27,
   "metadata": {
    "collapsed": false
   },
   "outputs": [
    {
     "data": {
      "image/png": "[encoded data removed]",
      "text/plain": [
       "<matplotlib.figure.Figure at 0x7fc2044855c0>"
      ]
     },
     "metadata": {},
     "output_type": "display_data"
    },
    {
     "name": "stdout",
     "output_type": "stream",
     "text": [
      "ch1: ch2 p_value:0.6161609271415349\n",
      "ch1: ch3 p_value:0.014881504225078897\n",
      "ch1: ch4 p_value:5.551063537652309e-05\n",
      "ch1: ch5 p_value:8.12098512099774e-05\n",
      "ch1: ch6 p_value:0.06423500451387781\n",
      "ch1: ch7 p_value:0.06727431383987957\n",
      "ch1: ch8 p_value:0.07335265548412097\n",
      "ch1: ch9 p_value:0.5368794509561798\n",
      "ch1: ch10 p_value:0.009494955957170325\n",
      "ch1: ch11 p_value:0.07630951882144661\n",
      "ch1: ch12 p_value:0.46308776922516637\n",
      "ch1: ch13 p_value:0.7168370340547687\n",
      "ch1: ch14 p_value:0.000659142481721761\n",
      "ch1: ch15 p_value:0.1254135295460141\n",
      "ch1: ch16 p_value:0.8672220414313347\n",
      "ch1: ch17 p_value:0.4888104030632274\n",
      "ch1: ch18 p_value:0.044428677471449594\n",
      "ch1: ch19 p_value:0.005086722620914462\n",
      "ch1: ch20 p_value:0.05874899925173268\n",
      "ch1: ch21 p_value:0.047934796699369384\n",
      "ch1: ch22 p_value:0.5704832705287484\n",
      "ch2: ch3 p_value:0.2305549791463457\n",
      "ch2: ch4 p_value:0.38586528568160183\n",
      "ch2: ch5 p_value:0.8612448442837182\n",
      "ch2: ch6 p_value:0.9353470592098874\n",
      "ch2: ch7 p_value:0.032763800756240025\n",
      "ch2: ch8 p_value:0.0038346165200697667\n",
      "ch2: ch9 p_value:0.5431886257513341\n",
      "ch2: ch10 p_value:0.16382683820699606\n",
      "ch2: ch11 p_value:0.9039446755058552\n",
      "ch2: ch12 p_value:0.06971467742316945\n",
      "ch2: ch13 p_value:0.5639293952183035\n",
      "ch2: ch14 p_value:2.7902378185565026e-05\n",
      "ch2: ch15 p_value:0.04151224085156193\n",
      "ch2: ch16 p_value:0.411327214592925\n",
      "ch2: ch17 p_value:0.13338045348975433\n",
      "ch2: ch18 p_value:0.009135601821728139\n",
      "ch2: ch19 p_value:0.0020915826607019704\n",
      "ch2: ch20 p_value:0.03544497497714938\n",
      "ch2: ch21 p_value:0.028897736014604974\n",
      "ch2: ch22 p_value:0.3776268798722411\n",
      "ch3: ch4 p_value:0.03824221714176282\n",
      "ch3: ch5 p_value:0.9699614763508161\n",
      "ch3: ch6 p_value:0.9441976037643676\n",
      "ch3: ch7 p_value:0.12081342543444888\n",
      "ch3: ch8 p_value:0.009311270454755176\n",
      "ch3: ch9 p_value:0.8685773838541557\n",
      "ch3: ch10 p_value:0.10497171270505949\n",
      "ch3: ch11 p_value:0.6626908043554096\n",
      "ch3: ch12 p_value:0.03359125505741088\n",
      "ch3: ch13 p_value:0.4496738165423866\n",
      "ch3: ch14 p_value:2.6216141201823303e-05\n",
      "ch3: ch15 p_value:0.005576883352701891\n",
      "ch3: ch16 p_value:0.29569657823830353\n",
      "ch3: ch17 p_value:0.04998102944812194\n",
      "ch3: ch18 p_value:0.002052965323264015\n",
      "ch3: ch19 p_value:0.0007134702238250138\n",
      "ch3: ch20 p_value:0.018829049351460642\n",
      "ch3: ch21 p_value:0.014353731644816656\n",
      "ch3: ch22 p_value:0.3274642182449181\n",
      "ch4: ch5 p_value:0.5547718831265643\n",
      "ch4: ch6 p_value:0.9247087787173666\n",
      "ch4: ch7 p_value:0.5656211464261873\n",
      "ch4: ch8 p_value:0.011718031006590204\n",
      "ch4: ch9 p_value:0.37596902213804306\n",
      "ch4: ch10 p_value:0.4711389965167907\n",
      "ch4: ch11 p_value:0.6459386393544742\n",
      "ch4: ch12 p_value:0.006287024618275171\n",
      "ch4: ch13 p_value:0.40167603144173125\n",
      "ch4: ch14 p_value:4.786011006021566e-05\n",
      "ch4: ch15 p_value:0.009199834112319326\n",
      "ch4: ch16 p_value:0.11761355396707439\n",
      "ch4: ch17 p_value:0.022916069918029056\n",
      "ch4: ch18 p_value:0.0007710817735873988\n",
      "ch4: ch19 p_value:0.001034686418853706\n",
      "ch4: ch20 p_value:0.01361020380106198\n",
      "ch4: ch21 p_value:0.008913701275728117\n",
      "ch4: ch22 p_value:0.3951097983385531\n",
      "ch5: ch6 p_value:0.7216542905280661\n",
      "ch5: ch7 p_value:0.45890839372556713\n",
      "ch5: ch8 p_value:0.014701560110592064\n",
      "ch5: ch9 p_value:0.18858902680350487\n",
      "ch5: ch10 p_value:0.5661402874891135\n",
      "ch5: ch11 p_value:0.7729213805828441\n",
      "ch5: ch12 p_value:0.0031525434043444323\n",
      "ch5: ch13 p_value:0.17297969556602333\n",
      "ch5: ch14 p_value:0.00020924386838593872\n",
      "ch5: ch15 p_value:0.008224144860943661\n",
      "ch5: ch16 p_value:0.24827624410064386\n",
      "ch5: ch17 p_value:0.043240222161067106\n",
      "ch5: ch18 p_value:0.0004178865772372647\n",
      "ch5: ch19 p_value:0.0022410524487750604\n",
      "ch5: ch20 p_value:0.022303409481231037\n",
      "ch5: ch21 p_value:0.011643203616778898\n",
      "ch5: ch22 p_value:0.32558328057029007\n",
      "ch6: ch7 p_value:0.8102977878493784\n",
      "ch6: ch8 p_value:0.05856612419457763\n",
      "ch6: ch9 p_value:0.5641507742462302\n",
      "ch6: ch10 p_value:0.628777232468763\n",
      "ch6: ch11 p_value:0.24810609455209942\n",
      "ch6: ch12 p_value:0.06698592882300779\n",
      "ch6: ch13 p_value:0.2665059975899946\n",
      "ch6: ch14 p_value:0.0024088991003249466\n",
      "ch6: ch15 p_value:0.12236107321408232\n",
      "ch6: ch16 p_value:0.7474153427761316\n",
      "ch6: ch17 p_value:0.6693532078655675\n",
      "ch6: ch18 p_value:0.03461054484768844\n",
      "ch6: ch19 p_value:0.028435864426059245\n",
      "ch6: ch20 p_value:0.194163919899074\n",
      "ch6: ch21 p_value:0.15272562112645924\n",
      "ch6: ch22 p_value:0.7648466534199565\n",
      "ch7: ch8 p_value:0.6965448626529855\n",
      "ch7: ch9 p_value:0.9792304396428729\n",
      "ch7: ch10 p_value:0.7375553127251304\n",
      "ch7: ch11 p_value:0.7578752621017268\n",
      "ch7: ch12 p_value:0.28532785011186046\n",
      "ch7: ch13 p_value:0.9878269187962571\n",
      "ch7: ch14 p_value:0.7367793808303058\n",
      "ch7: ch15 p_value:0.4782982559989941\n",
      "ch7: ch16 p_value:0.6969567039599746\n",
      "ch7: ch17 p_value:0.44042227243098475\n",
      "ch7: ch18 p_value:0.057318522463126235\n",
      "ch7: ch19 p_value:0.49567243138687644\n",
      "ch7: ch20 p_value:0.507529921661245\n",
      "ch7: ch21 p_value:0.1663708920473771\n",
      "ch7: ch22 p_value:0.9538609248660941\n",
      "ch8: ch9 p_value:0.08670193139286074\n",
      "ch8: ch10 p_value:0.015056746443901039\n",
      "ch8: ch11 p_value:0.009154515221196553\n",
      "ch8: ch12 p_value:0.0004592532699985962\n",
      "ch8: ch13 p_value:0.15373808064473685\n",
      "ch8: ch14 p_value:0.0005572377996810064\n",
      "ch8: ch15 p_value:0.056115497004323424\n",
      "ch8: ch16 p_value:0.023314597538273665\n",
      "ch8: ch17 p_value:0.001002981102784857\n",
      "ch8: ch18 p_value:7.441206699418069e-05\n",
      "ch8: ch19 p_value:0.004640595010626469\n",
      "ch8: ch20 p_value:0.009608540743228047\n",
      "ch8: ch21 p_value:0.0022576261253526822\n",
      "ch8: ch22 p_value:0.33859139542170513\n",
      "ch9: ch10 p_value:0.3939575369975379\n",
      "ch9: ch11 p_value:0.01105773566683779\n",
      "ch9: ch12 p_value:0.0020353611486972245\n",
      "ch9: ch13 p_value:0.35188961024321175\n",
      "ch9: ch14 p_value:2.9382652609707137e-05\n",
      "ch9: ch15 p_value:9.475811304535568e-06\n",
      "ch9: ch16 p_value:0.042552003289710344\n",
      "ch9: ch17 p_value:0.0006034599100155927\n",
      "ch9: ch18 p_value:4.6158289355242865e-05\n",
      "ch9: ch19 p_value:0.0005099687119565942\n",
      "ch9: ch20 p_value:0.004582886564335269\n",
      "ch9: ch21 p_value:0.002355659443128017\n",
      "ch9: ch22 p_value:0.27671876454228517\n",
      "ch10: ch11 p_value:0.22360081770697704\n",
      "ch10: ch12 p_value:0.0005796744794446219\n",
      "ch10: ch13 p_value:0.6160824764288644\n",
      "ch10: ch14 p_value:1.0013912952579299e-05\n",
      "ch10: ch15 p_value:0.0003870596011521187\n",
      "ch10: ch16 p_value:0.00784800149885605\n",
      "ch10: ch17 p_value:0.0001975420427232292\n",
      "ch10: ch18 p_value:2.0335262212893252e-05\n",
      "ch10: ch19 p_value:0.0007532984481141058\n",
      "ch10: ch20 p_value:0.00797900734111218\n",
      "ch10: ch21 p_value:0.00407414647927064\n",
      "ch10: ch22 p_value:0.3996205361561873\n",
      "ch11: ch12 p_value:0.005176827636077612\n",
      "ch11: ch13 p_value:0.6774878670768052\n",
      "ch11: ch14 p_value:0.00013012823007130586\n",
      "ch11: ch15 p_value:0.00036491467932960264\n",
      "ch11: ch16 p_value:0.12058396677780688\n",
      "ch11: ch17 p_value:0.011118712282012555\n",
      "ch11: ch18 p_value:3.908844694546985e-05\n",
      "ch11: ch19 p_value:0.0026006521548362703\n",
      "ch11: ch20 p_value:0.023794592317261058\n",
      "ch11: ch21 p_value:0.015711828422767398\n",
      "ch11: ch22 p_value:0.4914931966481093\n",
      "ch12: ch13 p_value:0.4191555216240318\n",
      "ch12: ch14 p_value:6.014979293830629e-05\n",
      "ch12: ch15 p_value:0.0012708178360838823\n",
      "ch12: ch16 p_value:0.023471867705485712\n",
      "ch12: ch17 p_value:0.5981609979535748\n",
      "ch12: ch18 p_value:0.19110216129123314\n",
      "ch12: ch19 p_value:0.008243129152909461\n",
      "ch12: ch20 p_value:0.09379987544631743\n",
      "ch12: ch21 p_value:0.2548467167021541\n",
      "ch12: ch22 p_value:0.8726339939461849\n",
      "ch13: ch14 p_value:0.0716218812656561\n",
      "ch13: ch15 p_value:0.35051448197962465\n",
      "ch13: ch16 p_value:0.8548689869624535\n",
      "ch13: ch17 p_value:0.24030280073917065\n",
      "ch13: ch18 p_value:0.27514550497899704\n",
      "ch13: ch19 p_value:0.4632441735360324\n",
      "ch13: ch20 p_value:0.7828206000944699\n",
      "ch13: ch21 p_value:0.47259268774167784\n",
      "ch13: ch22 p_value:0.21409306681678852\n",
      "ch14: ch15 p_value:0.1920059842301567\n",
      "ch14: ch16 p_value:0.0008267105349932505\n",
      "ch14: ch17 p_value:6.048426647222344e-05\n",
      "ch14: ch18 p_value:1.3423210193625062e-05\n",
      "ch14: ch19 p_value:0.2883606276443852\n",
      "ch14: ch20 p_value:0.00798293971693845\n",
      "ch14: ch21 p_value:0.00031295757143341913\n",
      "ch14: ch22 p_value:0.43300692468870283\n",
      "ch15: ch16 p_value:0.05044069547158376\n",
      "ch15: ch17 p_value:4.789216389092103e-05\n",
      "ch15: ch18 p_value:2.1319476842065904e-05\n",
      "ch15: ch19 p_value:0.14163287964537466\n",
      "ch15: ch20 p_value:0.030988078043469192\n",
      "ch15: ch21 p_value:0.0017239919782270799\n",
      "ch15: ch22 p_value:0.8441088798916719\n",
      "ch16: ch17 p_value:0.0020326846103001835\n",
      "ch16: ch18 p_value:0.0002234143231948931\n",
      "ch16: ch19 p_value:0.029775754861844615\n",
      "ch16: ch20 p_value:0.1935351786012519\n",
      "ch16: ch21 p_value:0.029193435004359895\n",
      "ch16: ch22 p_value:0.775708366403245\n",
      "ch17: ch18 p_value:0.017896268779385972\n",
      "ch17: ch19 p_value:0.0031220282297637924\n",
      "ch17: ch20 p_value:0.091766419631987\n",
      "ch17: ch21 p_value:0.29373592843273044\n",
      "ch17: ch22 p_value:0.7758168733572428\n",
      "ch18: ch19 p_value:0.001191098722282855\n",
      "ch18: ch20 p_value:0.01502307415739325\n",
      "ch18: ch21 p_value:0.14973331231866688\n",
      "ch18: ch22 p_value:0.8389886965533695\n",
      "ch19: ch20 p_value:0.0005914152355423204\n",
      "ch19: ch21 p_value:0.0001590257890353878\n",
      "ch19: ch22 p_value:0.5002933329697802\n",
      "ch20: ch21 p_value:0.00836187288718212\n",
      "ch20: ch22 p_value:0.29399454152415383\n",
      "ch21: ch22 p_value:0.6204014287459823\n"
     ]
    },
    {
     "data": {
      "text/plain": [
       "(array([  1,   2,   3,   8,  12,  16,  17,  19,  25,  26,  32,  33,  36,\n",
       "         37,  38,  39,  41,  45,  49,  51,  52,  54,  55,  56,  57,  58,\n",
       "         63,  67,  69,  70,  72,  73,  74,  75,  76,  80,  84,  86,  87,\n",
       "         89,  90,  91,  92,  93, 102, 106, 107, 127, 128, 129, 131, 133,\n",
       "        134, 135, 136, 137, 138, 141, 142, 144, 145, 146, 147, 148, 149,\n",
       "        150, 151, 154, 156, 157, 158, 159, 160, 161, 162, 163, 165, 167,\n",
       "        168, 170, 171, 172, 173, 174, 177, 178, 179, 182, 196, 197, 198,\n",
       "        200, 201, 204, 205, 207, 208, 210, 211, 212, 214, 216, 217, 221,\n",
       "        222, 225, 226, 228]),)"
      ]
     },
     "execution_count": 27,
     "metadata": {},
     "output_type": "execute_result"
    }
   ],
   "source": [
    "cm = make_connection_matrix(epochs['tongue'].get_data()[:,0:22,750:1250])\n",
    "cm_pre = make_connection_matrix(epochs['tongue'].get_data()[:,0:22,0:500])\n",
    "plt.set_cmap('hot')\n",
    "plt.pcolor(np.abs(cm.mean(axis=0) - cm_pre.mean(axis=0)))\n",
    "plt.colorbar()\n",
    "plt.title('Connection Matrix Post - Pre')\n",
    "plt.show()\n",
    "p_values = []\n",
    "for i in range(22):\n",
    "    for j in range(22):\n",
    "        if i >= j:\n",
    "            continue\n",
    "        p_value = cor_diff_test(cm.mean(axis=0)[i,j], cm_pre.mean(axis=0)[i,j], 1500, 1500)\n",
    "        print(\"ch{0}: ch{1} p_value:{2}\".format(i+1,j+1,p_value))\n",
    "        p_values.append(p_value)\n",
    "np.where(np.array(p_values) < 0.05)"
   ]
  },
  {
   "cell_type": "markdown",
   "metadata": {
    "collapsed": true
   },
   "source": [
    "### 今後に向けて\n",
    "+ 被験者全体でPreとPostに差が見られるかを調べる\n",
    "    + 単純に足しあわせて平均を出すだけでいいのか、マルチレベルの分析が必要になるのか\n",
    "+ 特定の周波数帯域に絞ってチャンネル間のコネクションを見る\n",
    "    + α帯(8-13Hz)やβ帯(19-21Hz）に選択的に着目してチャンネル間のコネクションをみるアプローチもポピュラーである(例：[http://www.jneurosci.org/content/jneuro/35/4/1627.full.pdf](http://www.jneurosci.org/content/jneuro/35/4/1627.full.pdf))\n",
    "    + 相関係数の代わりに[コヒーレンス](http://www.cygres.com/OcnPageJ/Glosry/CohJ.html)を用いる"
   ]
  },
  {
   "cell_type": "code",
   "execution_count": null,
   "metadata": {
    "collapsed": true
   },
   "outputs": [],
   "source": []
  }
 ],
 "metadata": {
  "kernelspec": {
   "display_name": "Python 3",
   "language": "python",
   "name": "python3"
  },
  "language_info": {
   "codemirror_mode": {
    "name": "ipython",
    "version": 3
   },
   "file_extension": ".py",
   "mimetype": "text/x-python",
   "name": "python",
   "nbconvert_exporter": "python",
   "pygments_lexer": "ipython3",
   "version": "3.5.2"
  }
 },
 "nbformat": 4,
 "nbformat_minor": 1
}
