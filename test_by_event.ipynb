{
 "cells": [
  {
   "cell_type": "markdown",
   "metadata": {},
   "source": [
    "### BNC Challenge 2008 課題の前後でのチャンネル同士のコネクティビティの変化\n",
    "[Development of Global Cortical Networks in Early Infancy](http://www.jneurosci.org/content/30/14/4877)を参考に\n",
    "\n",
    "検定の流れは\n",
    "+ １人の被験者につき代表値を462(22ch×21ch)個（タスク別に）算出\n",
    "+ 横軸にイベント、縦軸にzスコアをとり９人それぞれの点をプロット\n",
    "+ この図についてt検定\n",
    "+ p値ではなくFDRを考慮したq値で優位差を判断"
   ]
  },
  {
   "cell_type": "code",
   "execution_count": 60,
   "metadata": {
    "collapsed": true
   },
   "outputs": [],
   "source": [
    "%matplotlib inline\n",
    "import pandas as pd\n",
    "import numpy as np\n",
    "from scipy.signal import correlate\n",
    "from scipy.stats import zscore, norm, ttest_rel\n",
    "from statsmodels.sandbox.stats.multicomp import multipletests\n",
    "import matplotlib.pyplot as plt\n",
    "import seaborn as sns\n",
    "#sns.set(style=\"whitegrid\", color_codes=True)\n",
    "import mne\n",
    "from mne.connectivity import spectral_connectivity\n",
    "import itertools"
   ]
  },
  {
   "cell_type": "code",
   "execution_count": 2,
   "metadata": {
    "collapsed": true
   },
   "outputs": [],
   "source": [
    "event_id = dict(left_hand=1, right_hand=2, feet=3, tongue=4)  # event ID"
   ]
  },
  {
   "cell_type": "code",
   "execution_count": 3,
   "metadata": {
    "collapsed": true
   },
   "outputs": [],
   "source": [
    "fs = 250 # Sampling frequency\n",
    "info = mne.create_info([\"ch\"+str(i) for i in range(25)], fs) #  Channel labels and sampling freq."
   ]
  },
  {
   "cell_type": "code",
   "execution_count": 4,
   "metadata": {
    "collapsed": true
   },
   "outputs": [],
   "source": [
    "# Read events from csv\n",
    "subjects = ['A01T', 'A02T', 'A03T', 'A04T', 'A05T', 'A06T', 'A07T', 'A08T', 'A09T']\n",
    "#subjects = ['A01T', 'A02T', 'A03T']\n",
    "#events = [0] * len(subjects)\n",
    "#eegs = [0] * len(subjects)\n",
    "#raw = [0] * len(subjects)\n",
    "epochs = [0] * len(subjects)\n",
    "#cm_post = [0] * len(subjects)\n",
    "#cm_binary = [0] * len(subjects)\n",
    "#one_cm = [0] * len(subjects)\n",
    "#cm_pre = [0] * len(subjects)\n",
    "#cm_pre_binary = [0] * len(subjects)"
   ]
  },
  {
   "cell_type": "code",
   "execution_count": 5,
   "metadata": {},
   "outputs": [
    {
     "name": "stdout",
     "output_type": "stream",
     "text": [
      "Creating RawArray with float64 data, n_channels=25, n_times=677145\n",
      "    Range : 0 ... 677144 =      0.000 ...  2708.576 secs\n",
      "Ready.\n",
      "336 matching events found\n",
      "0 projection items activated\n",
      "Loading data for 336 events and 1501 original time points ...\n",
      "0 bad epochs dropped\n",
      "Creating RawArray with float64 data, n_channels=25, n_times=677145\n",
      "    Range : 0 ... 677144 =      0.000 ...  2708.576 secs\n",
      "Ready.\n",
      "336 matching events found\n",
      "0 projection items activated\n",
      "Loading data for 336 events and 1501 original time points ...\n",
      "0 bad epochs dropped\n",
      "Creating RawArray with float64 data, n_channels=25, n_times=677145\n",
      "    Range : 0 ... 677144 =      0.000 ...  2708.576 secs\n",
      "Ready.\n",
      "336 matching events found\n",
      "0 projection items activated\n",
      "Loading data for 336 events and 1501 original time points ...\n",
      "0 bad epochs dropped\n",
      "Creating RawArray with float64 data, n_channels=25, n_times=677145\n",
      "    Range : 0 ... 677144 =      0.000 ...  2708.576 secs\n",
      "Ready.\n",
      "336 matching events found\n",
      "0 projection items activated\n",
      "Loading data for 336 events and 1501 original time points ...\n",
      "0 bad epochs dropped\n",
      "Creating RawArray with float64 data, n_channels=25, n_times=677145\n",
      "    Range : 0 ... 677144 =      0.000 ...  2708.576 secs\n",
      "Ready.\n",
      "336 matching events found\n",
      "0 projection items activated\n",
      "Loading data for 336 events and 1501 original time points ...\n",
      "0 bad epochs dropped\n",
      "Creating RawArray with float64 data, n_channels=25, n_times=677145\n",
      "    Range : 0 ... 677144 =      0.000 ...  2708.576 secs\n",
      "Ready.\n",
      "336 matching events found\n",
      "0 projection items activated\n",
      "Loading data for 336 events and 1501 original time points ...\n",
      "0 bad epochs dropped\n",
      "Creating RawArray with float64 data, n_channels=25, n_times=677145\n",
      "    Range : 0 ... 677144 =      0.000 ...  2708.576 secs\n",
      "Ready.\n",
      "336 matching events found\n",
      "0 projection items activated\n",
      "Loading data for 336 events and 1501 original time points ...\n",
      "0 bad epochs dropped\n",
      "Creating RawArray with float64 data, n_channels=25, n_times=677145\n",
      "    Range : 0 ... 677144 =      0.000 ...  2708.576 secs\n",
      "Ready.\n",
      "336 matching events found\n",
      "0 projection items activated\n",
      "Loading data for 336 events and 1501 original time points ...\n",
      "0 bad epochs dropped\n",
      "Creating RawArray with float64 data, n_channels=25, n_times=677145\n",
      "    Range : 0 ... 677144 =      0.000 ...  2708.576 secs\n",
      "Ready.\n",
      "336 matching events found\n",
      "0 projection items activated\n",
      "Loading data for 336 events and 1501 original time points ...\n",
      "0 bad epochs dropped\n"
     ]
    }
   ],
   "source": [
    "for (i, subject) in enumerate(subjects):\n",
    "    events = pd.read_csv('./datasets/events_'+subject+'.csv', header=None)\n",
    "    events = np.array(events.astype(int))\n",
    "    eegs = pd.read_csv('./datasets/eeg_'+subject+'.csv', header=None)\n",
    "    raw = mne.io.array.RawArray(eegs, info)\n",
    "    epochs[i] = mne.Epochs(raw, events, event_id, tmin=0.0, tmax=6.0, baseline=(None,0), preload=True, add_eeg_ref=False)"
   ]
  },
  {
   "cell_type": "markdown",
   "metadata": {},
   "source": [
    "波形を平均してから相関係数を出すのもやってみました。\n",
    "ただ相関係数の平均と比べてかなり値が変わるのと、BCIを研究していた人に聞いたら、BCIでは波形を平均したものを扱うことはめったにないそうなので、従来通り相関係数の平均でいいのかなという印象です。"
   ]
  },
  {
   "cell_type": "code",
   "execution_count": 58,
   "metadata": {},
   "outputs": [
    {
     "data": {
      "text/plain": [
       "\"def calc_mean_coef_z(epochs, event, pre, ch1, ch2):\\n    if(pre):\\n        signal = epochs[event].get_data()[:,[ch1,ch2],0:500].mean(0)\\n    else:\\n        signal = epochs[event].get_data()[:,[ch1,ch2],750:1250].mean(0)\\n    coef = max(correlate(signal[0,:], signal[1,:])) / (np.linalg.norm(signal[0,:])*np.linalg.norm(signal[1,:]))\\n    #mean_r = np.array(coefs).mean()\\n    # Fisher's z transformation\\n    z_score = np.arctanh(coef)\\n    return z_score\""
      ]
     },
     "execution_count": 58,
     "metadata": {},
     "output_type": "execute_result"
    }
   ],
   "source": [
    "# culculate coef by mean_eeg\n",
    "'''def calc_mean_coef_z(epochs, event, pre, ch1, ch2):\n",
    "    if(pre):\n",
    "        signal = epochs[event].get_data()[:,[ch1,ch2],0:500].mean(0)\n",
    "    else:\n",
    "        signal = epochs[event].get_data()[:,[ch1,ch2],750:1250].mean(0)\n",
    "    coef = max(correlate(signal[0,:], signal[1,:])) / (np.linalg.norm(signal[0,:])*np.linalg.norm(signal[1,:]))\n",
    "    #mean_r = np.array(coefs).mean()\n",
    "    # Fisher's z transformation\n",
    "    z_score = np.arctanh(coef)\n",
    "    return z_score'''"
   ]
  },
  {
   "cell_type": "code",
   "execution_count": 7,
   "metadata": {
    "collapsed": true
   },
   "outputs": [],
   "source": [
    "def calc_mean_coef_z(epochs, event, ch1, ch2):\n",
    "    signal = epochs[event].get_data()[:,[ch1,ch2],750:1250]\n",
    "    trial_num = signal.shape[0]\n",
    "    coefs = [max(correlate(signal[trial,0,:], signal[trial,1,:])) / (np.linalg.norm(signal[trial,0,:])*np.linalg.norm(signal[trial,1,:])) for trial in range(trial_num)]\n",
    "    mean_r = np.array(coefs).mean()\n",
    "    # Fisher's z transformation\n",
    "    z_score = np.arctanh(mean_r)\n",
    "    return z_score"
   ]
  },
  {
   "cell_type": "code",
   "execution_count": 8,
   "metadata": {
    "collapsed": true
   },
   "outputs": [],
   "source": [
    "# 0612イベント間での検定ができるように改定 \n",
    "def make_comparable_data(epochs, event1, event2, ch1, ch2):\n",
    "    data = {event1:[], event2:[]}\n",
    "    for i in range(len(epochs)):\n",
    "        data[event1].append(calc_mean_coef_z(epochs[i], event1, ch1, ch2))\n",
    "        data[event2].append(calc_mean_coef_z(epochs[i], event2, ch1, ch2))\n",
    "        title = \"{0}-{1} ch{2}-ch{3}\".format(event1, event2, ch1, ch2)\n",
    "    df = pd.DataFrame(data)\n",
    "    return df, event1, event2, title"
   ]
  },
  {
   "cell_type": "code",
   "execution_count": 9,
   "metadata": {
    "collapsed": true
   },
   "outputs": [],
   "source": [
    "def df2sns(df, event1, event2):\n",
    "    data = {\"z_score\":[], \"condition\":[]}\n",
    "    for ix, row in df.iterrows():\n",
    "        data['z_score'].append(row[event1])\n",
    "        data['z_score'].append(row[event2])\n",
    "        data['condition'].append(event1)\n",
    "        data['condition'].append(event2)\n",
    "    return pd.DataFrame(data)"
   ]
  },
  {
   "cell_type": "code",
   "execution_count": 10,
   "metadata": {
    "collapsed": true
   },
   "outputs": [],
   "source": [
    "def srs2sns(series, event1, event2):\n",
    "    data = {\"z_score\":[], \"condition\":[event1, event2]}\n",
    "    data['z_score'].append(series[event1])\n",
    "    data['z_score'].append(series[event2])\n",
    "    return pd.DataFrame(data)"
   ]
  },
  {
   "cell_type": "markdown",
   "metadata": {},
   "source": [
    "例えば、左手条件でのch10-ch11間の相関係数の差を９人で検定することを考える"
   ]
  },
  {
   "cell_type": "code",
   "execution_count": 11,
   "metadata": {},
   "outputs": [
    {
     "data": {
      "text/html": [
       "<div>\n",
       "<table border=\"1\" class=\"dataframe\">\n",
       "  <thead>\n",
       "    <tr style=\"text-align: right;\">\n",
       "      <th></th>\n",
       "      <th>left_hand</th>\n",
       "      <th>right_hand</th>\n",
       "    </tr>\n",
       "  </thead>\n",
       "  <tbody>\n",
       "    <tr>\n",
       "      <th>0</th>\n",
       "      <td>1.900219</td>\n",
       "      <td>1.875148</td>\n",
       "    </tr>\n",
       "    <tr>\n",
       "      <th>1</th>\n",
       "      <td>1.886598</td>\n",
       "      <td>1.891977</td>\n",
       "    </tr>\n",
       "    <tr>\n",
       "      <th>2</th>\n",
       "      <td>1.888672</td>\n",
       "      <td>1.884943</td>\n",
       "    </tr>\n",
       "    <tr>\n",
       "      <th>3</th>\n",
       "      <td>1.778253</td>\n",
       "      <td>1.722216</td>\n",
       "    </tr>\n",
       "    <tr>\n",
       "      <th>4</th>\n",
       "      <td>1.899932</td>\n",
       "      <td>1.876259</td>\n",
       "    </tr>\n",
       "    <tr>\n",
       "      <th>5</th>\n",
       "      <td>1.652200</td>\n",
       "      <td>1.593346</td>\n",
       "    </tr>\n",
       "    <tr>\n",
       "      <th>6</th>\n",
       "      <td>1.753118</td>\n",
       "      <td>1.739840</td>\n",
       "    </tr>\n",
       "    <tr>\n",
       "      <th>7</th>\n",
       "      <td>1.995258</td>\n",
       "      <td>1.771375</td>\n",
       "    </tr>\n",
       "    <tr>\n",
       "      <th>8</th>\n",
       "      <td>1.790768</td>\n",
       "      <td>1.524944</td>\n",
       "    </tr>\n",
       "  </tbody>\n",
       "</table>\n",
       "</div>"
      ],
      "text/plain": [
       "   left_hand  right_hand\n",
       "0   1.900219    1.875148\n",
       "1   1.886598    1.891977\n",
       "2   1.888672    1.884943\n",
       "3   1.778253    1.722216\n",
       "4   1.899932    1.876259\n",
       "5   1.652200    1.593346\n",
       "6   1.753118    1.739840\n",
       "7   1.995258    1.771375\n",
       "8   1.790768    1.524944"
      ]
     },
     "execution_count": 11,
     "metadata": {},
     "output_type": "execute_result"
    }
   ],
   "source": [
    "df, event1, event2, title = make_comparable_data(epochs, \"left_hand\", \"right_hand\", 10,11)\n",
    "df"
   ]
  },
  {
   "cell_type": "code",
   "execution_count": 12,
   "metadata": {},
   "outputs": [
    {
     "data": {
      "text/plain": [
       "<matplotlib.text.Text at 0x7f42245486d8>"
      ]
     },
     "execution_count": 12,
     "metadata": {},
     "output_type": "execute_result"
    },
    {
     "data": {
      "image/png": "[encoded data removed]",
      "text/plain": [
       "<matplotlib.figure.Figure at 0x7f42245c5f28>"
      ]
     },
     "metadata": {},
     "output_type": "display_data"
    }
   ],
   "source": [
    "ax = sns.pointplot(\"condition\", y=\"z_score\", data=df2sns(df, event1, event2))\n",
    "palette = sns.color_palette(\"Set1\", n_colors=len(df))\n",
    "for i in range(len(df)):\n",
    "    data = srs2sns(df.ix[i], event1, event2)\n",
    "    sns.stripplot(x=\"condition\", y=\"z_score\", data=data, color=palette[i])\n",
    "ax.set_title(\" \"+title)"
   ]
  },
  {
   "cell_type": "code",
   "execution_count": 13,
   "metadata": {},
   "outputs": [
    {
     "name": "stdout",
     "output_type": "stream",
     "text": [
      "p = 0.0570756762660494\n"
     ]
    }
   ],
   "source": [
    "t, p = ttest_rel(df[event1], df[event2])\n",
    "print(\"p = {0}\".format(p))"
   ]
  },
  {
   "cell_type": "markdown",
   "metadata": {},
   "source": [
    "この要領で6条件×（21ｃｈ×21ｃｈ）の組み合わせを全通り検定する\n",
    "+ rhand-lhand\n",
    "+ rhand-foot\n",
    "+ rhand-tongue\n",
    "+ lhand-foot\n",
    "+ lhand-tongue\n",
    "+ foot-tongue"
   ]
  },
  {
   "cell_type": "code",
   "execution_count": 14,
   "metadata": {
    "collapsed": true
   },
   "outputs": [],
   "source": [
    "def test_corr(epochs, event1, event2, ch1, ch2):\n",
    "    df, event1, event2, title = make_comparable_data(epochs, event1, event2, ch1, ch2)\n",
    "    t, p = ttest_rel(df[event1], df[event2])\n",
    "    return p"
   ]
  },
  {
   "cell_type": "code",
   "execution_count": 15,
   "metadata": {},
   "outputs": [],
   "source": [
    "results = {}\n",
    "ch_num = 22\n",
    "for event1, event2 in itertools.combinations(event_id.keys(),2):\n",
    "    for ch1,ch2 in itertools.combinations(range(ch_num),2):\n",
    "            p = test_corr(epochs, event1, event2, ch1, ch2)\n",
    "            results[\"{0}-{1}_ch{2}-ch{3}\".format(event1, event2, ch1, ch2)] = p"
   ]
  },
  {
   "cell_type": "code",
   "execution_count": 16,
   "metadata": {},
   "outputs": [],
   "source": [
    "# False Discovery Rateを考慮した検定\n",
    "reject, q_value,_,_ = multipletests(list(results.values()), alpha=0.1, method=\"fdr_tsbky\")"
   ]
  },
  {
   "cell_type": "code",
   "execution_count": 17,
   "metadata": {},
   "outputs": [
    {
     "name": "stdout",
     "output_type": "stream",
     "text": [
      "tongue-right_hand_ch17-ch18 q=0.07042813087968013\n",
      "tongue-left_hand_ch2-ch19 q=0.04719585241507853\n",
      "tongue-right_hand_ch16-ch18 q=0.08159738974649473\n",
      "feet-left_hand_ch0-ch8 q=0.055417033714284206\n",
      "tongue-left_hand_ch16-ch17 q=0.06883470563251227\n",
      "tongue-feet_ch17-ch18 q=0.09134969942592691\n",
      "tongue-right_hand_ch0-ch6 q=0.06538936776009074\n",
      "right_hand-feet_ch0-ch8 q=0.05560254405994242\n",
      "tongue-left_hand_ch4-ch21 q=0.07123340138452157\n",
      "tongue-left_hand_ch17-ch20 q=0.0675725794917623\n",
      "feet-left_hand_ch5-ch11 q=0.05763258676101822\n",
      "tongue-left_hand_ch11-ch16 q=0.08367949082840843\n",
      "right_hand-feet_ch7-ch10 q=0.09134969942592691\n",
      "tongue-feet_ch4-ch10 q=0.048192045779187245\n",
      "tongue-right_hand_ch3-ch16 q=0.048192045779187245\n",
      "tongue-feet_ch7-ch16 q=0.055417033714284206\n",
      "right_hand-left_hand_ch1-ch20 q=0.05591150809454203\n",
      "tongue-right_hand_ch0-ch21 q=0.08159738974649473\n",
      "tongue-right_hand_ch11-ch17 q=0.09639437009927668\n",
      "right_hand-feet_ch10-ch13 q=0.060529056613294156\n",
      "tongue-right_hand_ch8-ch15 q=0.06045798764554218\n",
      "tongue-right_hand_ch3-ch10 q=0.048192045779187245\n",
      "tongue-left_hand_ch12-ch19 q=0.09842523022739523\n",
      "tongue-right_hand_ch10-ch18 q=0.056578559769165766\n",
      "right_hand-feet_ch9-ch13 q=0.049496088303282594\n",
      "tongue-feet_ch10-ch14 q=0.0734771078318381\n",
      "right_hand-feet_ch5-ch18 q=0.08367949082840843\n",
      "tongue-left_hand_ch2-ch4 q=0.058882243023440875\n",
      "tongue-left_hand_ch3-ch17 q=0.05251339525158213\n",
      "tongue-left_hand_ch4-ch9 q=0.09343475087549283\n",
      "tongue-left_hand_ch15-ch20 q=0.08922546282597801\n",
      "tongue-left_hand_ch2-ch16 q=0.04719585241507853\n",
      "tongue-right_hand_ch0-ch18 q=0.048192045779187245\n",
      "tongue-left_hand_ch3-ch12 q=0.09177893634105636\n",
      "tongue-left_hand_ch0-ch9 q=0.055417033714284206\n",
      "feet-left_hand_ch16-ch17 q=0.07076231188716377\n",
      "tongue-left_hand_ch13-ch16 q=0.05560254405994242\n",
      "tongue-right_hand_ch0-ch5 q=0.08354818883576536\n",
      "tongue-right_hand_ch0-ch14 q=0.04719585241507853\n",
      "tongue-left_hand_ch0-ch4 q=0.08922546282597801\n",
      "tongue-left_hand_ch11-ch15 q=0.057649933419161664\n",
      "right_hand-left_hand_ch20-ch21 q=0.08491318560140537\n",
      "right_hand-left_hand_ch18-ch20 q=0.055417033714284206\n",
      "tongue-left_hand_ch9-ch11 q=0.057649933419161664\n",
      "feet-left_hand_ch14-ch19 q=0.07324409711385185\n",
      "right_hand-left_hand_ch3-ch10 q=0.07324409711385185\n",
      "tongue-left_hand_ch3-ch16 q=0.04719585241507853\n",
      "tongue-right_hand_ch7-ch10 q=0.057649933419161664\n",
      "tongue-left_hand_ch1-ch2 q=0.08007943235310788\n",
      "tongue-left_hand_ch1-ch13 q=0.053502466022898265\n",
      "right_hand-left_hand_ch4-ch12 q=0.08671336262997759\n",
      "tongue-left_hand_ch0-ch15 q=0.04719585241507853\n",
      "right_hand-feet_ch1-ch7 q=0.049496088303282594\n",
      "tongue-right_hand_ch2-ch18 q=0.054268634288217404\n",
      "tongue-feet_ch18-ch20 q=0.08425834863448967\n",
      "tongue-right_hand_ch5-ch17 q=0.058882243023440875\n",
      "right_hand-left_hand_ch14-ch16 q=0.0810697862636512\n",
      "tongue-left_hand_ch0-ch2 q=0.04719585241507853\n",
      "feet-left_hand_ch12-ch13 q=0.09343475087549283\n",
      "tongue-right_hand_ch2-ch10 q=0.08507735210442448\n",
      "tongue-right_hand_ch0-ch17 q=0.05905087439315886\n",
      "tongue-feet_ch8-ch10 q=0.055417033714284206\n",
      "feet-left_hand_ch4-ch12 q=0.08708493474998819\n",
      "tongue-left_hand_ch3-ch15 q=0.04719585241507853\n",
      "tongue-feet_ch4-ch14 q=0.057206009314974236\n",
      "right_hand-feet_ch2-ch14 q=0.08490450659937182\n",
      "tongue-left_hand_ch5-ch11 q=0.057984791482426974\n",
      "right_hand-left_hand_ch7-ch21 q=0.09695088892631828\n",
      "feet-left_hand_ch5-ch13 q=0.08496200404330465\n",
      "right_hand-left_hand_ch13-ch17 q=0.07174169652499289\n",
      "tongue-feet_ch8-ch15 q=0.05113437058948\n",
      "feet-left_hand_ch7-ch21 q=0.05591150809454203\n",
      "feet-left_hand_ch3-ch10 q=0.05591150809454203\n",
      "right_hand-left_hand_ch2-ch19 q=0.08367949082840843\n",
      "tongue-right_hand_ch4-ch14 q=0.04719585241507853\n",
      "tongue-right_hand_ch1-ch13 q=0.055417033714284206\n",
      "feet-left_hand_ch3-ch13 q=0.08507735210442448\n",
      "tongue-left_hand_ch11-ch14 q=0.055417033714284206\n",
      "right_hand-feet_ch11-ch13 q=0.09695088892631828\n",
      "right_hand-feet_ch10-ch14 q=0.06029937778373152\n",
      "tongue-right_hand_ch2-ch15 q=0.04719585241507853\n",
      "right_hand-feet_ch7-ch13 q=0.055417033714284206\n",
      "feet-left_hand_ch14-ch16 q=0.0788428761215495\n",
      "feet-left_hand_ch3-ch12 q=0.05548326225559283\n",
      "feet-left_hand_ch1-ch16 q=0.049496088303282594\n",
      "tongue-left_hand_ch20-ch21 q=0.09895230752647602\n",
      "tongue-right_hand_ch5-ch15 q=0.049496088303282594\n",
      "tongue-left_hand_ch3-ch19 q=0.04719585241507853\n",
      "right_hand-left_hand_ch15-ch20 q=0.048192045779187245\n",
      "tongue-left_hand_ch8-ch18 q=0.0568861646000693\n",
      "feet-left_hand_ch7-ch12 q=0.06797826139886147\n",
      "feet-left_hand_ch15-ch17 q=0.06020223571366791\n",
      "tongue-left_hand_ch10-ch15 q=0.0614296654512079\n",
      "tongue-feet_ch0-ch8 q=0.0865837632849167\n",
      "tongue-feet_ch7-ch17 q=0.09525479694740047\n",
      "feet-left_hand_ch5-ch14 q=0.07076231188716377\n",
      "feet-left_hand_ch9-ch14 q=0.0865837632849167\n",
      "tongue-left_hand_ch7-ch15 q=0.04719585241507853\n",
      "feet-left_hand_ch0-ch14 q=0.05819849651619003\n",
      "tongue-right_hand_ch6-ch10 q=0.09752392829117407\n",
      "tongue-left_hand_ch14-ch17 q=0.055417033714284206\n",
      "feet-left_hand_ch11-ch16 q=0.06073764803459919\n",
      "tongue-left_hand_ch3-ch18 q=0.04719585241507853\n",
      "tongue-feet_ch10-ch15 q=0.08527672875481494\n",
      "tongue-right_hand_ch0-ch10 q=0.04719585241507853\n",
      "tongue-left_hand_ch19-ch20 q=0.053502466022898265\n",
      "right_hand-left_hand_ch16-ch17 q=0.08159738974649473\n",
      "right_hand-left_hand_ch7-ch17 q=0.06231367303417653\n",
      "tongue-feet_ch4-ch8 q=0.049496088303282594\n",
      "right_hand-left_hand_ch4-ch11 q=0.08367949082840843\n",
      "tongue-right_hand_ch1-ch15 q=0.04719585241507853\n",
      "tongue-left_hand_ch8-ch10 q=0.0568861646000693\n",
      "right_hand-left_hand_ch3-ch5 q=0.057649933419161664\n",
      "tongue-right_hand_ch1-ch10 q=0.09488013850467777\n",
      "tongue-right_hand_ch1-ch19 q=0.048192045779187245\n",
      "tongue-right_hand_ch3-ch18 q=0.048192045779187245\n",
      "tongue-left_hand_ch3-ch14 q=0.04719585241507853\n",
      "feet-left_hand_ch9-ch17 q=0.048192045779187245\n",
      "feet-left_hand_ch5-ch20 q=0.08159738974649473\n",
      "tongue-right_hand_ch3-ch15 q=0.04719585241507853\n",
      "feet-left_hand_ch9-ch11 q=0.04719585241507853\n",
      "tongue-right_hand_ch3-ch19 q=0.04719585241507853\n",
      "tongue-feet_ch4-ch7 q=0.055417033714284206\n",
      "feet-left_hand_ch2-ch16 q=0.04719585241507853\n",
      "tongue-left_hand_ch13-ch20 q=0.05251339525158213\n",
      "feet-left_hand_ch8-ch16 q=0.05509555635325169\n",
      "tongue-feet_ch13-ch15 q=0.08367949082840843\n",
      "tongue-left_hand_ch14-ch19 q=0.058351773773880566\n",
      "tongue-right_hand_ch5-ch16 q=0.04719585241507853\n",
      "tongue-right_hand_ch4-ch16 q=0.04719585241507853\n",
      "tongue-left_hand_ch8-ch19 q=0.05183288686805621\n",
      "tongue-left_hand_ch7-ch18 q=0.048192045779187245\n",
      "tongue-right_hand_ch13-ch15 q=0.06792494976439184\n",
      "tongue-feet_ch3-ch4 q=0.051111747077499485\n",
      "feet-left_hand_ch10-ch16 q=0.08922546282597801\n",
      "right_hand-left_hand_ch19-ch20 q=0.048192045779187245\n",
      "tongue-left_hand_ch13-ch18 q=0.09570549024457713\n",
      "tongue-left_hand_ch2-ch20 q=0.04719585241507853\n",
      "tongue-left_hand_ch1-ch11 q=0.05591150809454203\n",
      "tongue-left_hand_ch9-ch18 q=0.055417033714284206\n",
      "tongue-right_hand_ch5-ch7 q=0.09603689774877366\n",
      "tongue-right_hand_ch10-ch15 q=0.055417033714284206\n",
      "feet-left_hand_ch0-ch12 q=0.055417033714284206\n",
      "tongue-right_hand_ch8-ch14 q=0.06425156078165215\n",
      "feet-left_hand_ch3-ch18 q=0.09134969942592691\n",
      "tongue-right_hand_ch0-ch19 q=0.04719585241507853\n",
      "right_hand-left_hand_ch14-ch19 q=0.049496088303282594\n",
      "right_hand-left_hand_ch8-ch16 q=0.055417033714284206\n",
      "tongue-right_hand_ch4-ch21 q=0.08507735210442448\n",
      "tongue-right_hand_ch3-ch14 q=0.04719585241507853\n",
      "tongue-left_hand_ch0-ch20 q=0.048192045779187245\n",
      "tongue-feet_ch8-ch14 q=0.058882243023440875\n",
      "right_hand-left_hand_ch1-ch12 q=0.058882243023440875\n",
      "tongue-right_hand_ch9-ch13 q=0.06231367303417653\n",
      "tongue-right_hand_ch1-ch7 q=0.048192045779187245\n",
      "right_hand-feet_ch3-ch7 q=0.053502466022898265\n",
      "feet-left_hand_ch4-ch17 q=0.055417033714284206\n",
      "tongue-feet_ch3-ch8 q=0.06445432354581046\n",
      "tongue-left_hand_ch7-ch14 q=0.055417033714284206\n",
      "tongue-right_hand_ch11-ch13 q=0.08491318560140537\n",
      "right_hand-left_hand_ch6-ch20 q=0.05879747214004505\n",
      "tongue-left_hand_ch15-ch17 q=0.06029937778373152\n",
      "tongue-feet_ch2-ch10 q=0.08367949082840843\n",
      "feet-left_hand_ch9-ch13 q=0.09891821232247257\n",
      "tongue-feet_ch13-ch16 q=0.07324409711385185\n",
      "right_hand-left_hand_ch3-ch11 q=0.055417033714284206\n",
      "tongue-left_hand_ch3-ch20 q=0.048192045779187245\n",
      "right_hand-left_hand_ch9-ch15 q=0.08367949082840843\n",
      "tongue-left_hand_ch0-ch21 q=0.055417033714284206\n",
      "tongue-right_hand_ch5-ch14 q=0.048192045779187245\n",
      "tongue-left_hand_ch2-ch7 q=0.05905087439315886\n",
      "tongue-right_hand_ch5-ch13 q=0.057984791482426974\n",
      "tongue-left_hand_ch1-ch7 q=0.053502466022898265\n",
      "right_hand-feet_ch0-ch6 q=0.06797826139886147\n",
      "tongue-right_hand_ch3-ch21 q=0.08671336262997759\n",
      "tongue-left_hand_ch3-ch7 q=0.055417033714284206\n",
      "tongue-right_hand_ch8-ch18 q=0.09128723166302306\n",
      "tongue-feet_ch3-ch10 q=0.06742129080655596\n",
      "tongue-left_hand_ch2-ch15 q=0.04719585241507853\n",
      "right_hand-left_hand_ch14-ch17 q=0.06425156078165215\n",
      "right_hand-left_hand_ch7-ch16 q=0.08922546282597801\n",
      "tongue-left_hand_ch11-ch19 q=0.057649933419161664\n",
      "tongue-left_hand_ch8-ch21 q=0.09057474529030399\n",
      "tongue-feet_ch0-ch1 q=0.055417033714284206\n",
      "tongue-right_hand_ch7-ch15 q=0.048192045779187245\n",
      "tongue-right_hand_ch11-ch20 q=0.053502466022898265\n",
      "right_hand-left_hand_ch3-ch20 q=0.06322687402298854\n",
      "tongue-right_hand_ch9-ch19 q=0.08496200404330465\n",
      "right_hand-feet_ch2-ch8 q=0.05216066857787409\n",
      "tongue-right_hand_ch10-ch16 q=0.08873233786676277\n",
      "tongue-left_hand_ch0-ch10 q=0.04719585241507853\n",
      "tongue-right_hand_ch17-ch19 q=0.0568861646000693\n",
      "tongue-left_hand_ch0-ch7 q=0.048192045779187245\n",
      "right_hand-left_hand_ch13-ch20 q=0.049496088303282594\n",
      "tongue-left_hand_ch4-ch7 q=0.059388698363678626\n",
      "tongue-left_hand_ch5-ch16 q=0.058351773773880566\n",
      "tongue-right_hand_ch4-ch10 q=0.04719585241507853\n",
      "tongue-left_hand_ch2-ch8 q=0.04719585241507853\n",
      "right_hand-feet_ch5-ch13 q=0.05763258676101822\n",
      "right_hand-left_hand_ch0-ch20 q=0.09752392829117407\n",
      "tongue-left_hand_ch16-ch20 q=0.0788428761215495\n",
      "feet-left_hand_ch9-ch15 q=0.09525479694740047\n",
      "feet-left_hand_ch13-ch20 q=0.053502466022898265\n",
      "tongue-feet_ch10-ch13 q=0.08922546282597801\n",
      "tongue-right_hand_ch9-ch15 q=0.05216066857787409\n",
      "tongue-feet_ch4-ch13 q=0.06903164959372593\n",
      "feet-left_hand_ch1-ch11 q=0.06797826139886147\n",
      "tongue-left_hand_ch4-ch10 q=0.053502466022898265\n",
      "tongue-left_hand_ch7-ch21 q=0.055417033714284206\n",
      "tongue-right_hand_ch3-ch8 q=0.04719585241507853\n",
      "feet-left_hand_ch1-ch20 q=0.055417033714284206\n",
      "tongue-right_hand_ch1-ch18 q=0.04836734333760968\n",
      "tongue-left_hand_ch5-ch17 q=0.05905087439315886\n",
      "feet-left_hand_ch4-ch20 q=0.07566366334269187\n",
      "tongue-right_hand_ch4-ch20 q=0.05251339525158213\n",
      "tongue-feet_ch5-ch13 q=0.09695088892631828\n",
      "right_hand-left_hand_ch13-ch21 q=0.08984964708081283\n",
      "right_hand-feet_ch3-ch14 q=0.059922669451234235\n",
      "feet-left_hand_ch14-ch17 q=0.055417033714284206\n",
      "feet-left_hand_ch3-ch19 q=0.08159738974649473\n",
      "tongue-right_hand_ch4-ch8 q=0.053502466022898265\n",
      "tongue-left_hand_ch4-ch19 q=0.049496088303282594\n",
      "tongue-right_hand_ch1-ch16 q=0.048192045779187245\n",
      "tongue-feet_ch4-ch15 q=0.07042813087968013\n",
      "tongue-feet_ch3-ch7 q=0.07815615272163791\n",
      "feet-left_hand_ch10-ch14 q=0.08159738974649473\n",
      "tongue-left_hand_ch6-ch16 q=0.05584988740322479\n",
      "feet-left_hand_ch2-ch20 q=0.05183288686805621\n",
      "tongue-feet_ch4-ch19 q=0.09649518129685478\n",
      "right_hand-left_hand_ch1-ch17 q=0.055417033714284206\n",
      "tongue-left_hand_ch6-ch15 q=0.08367949082840843\n",
      "feet-left_hand_ch3-ch17 q=0.048192045779187245\n",
      "tongue-left_hand_ch0-ch18 q=0.04719585241507853\n",
      "tongue-left_hand_ch11-ch20 q=0.057984791482426974\n",
      "tongue-right_hand_ch7-ch16 q=0.055417033714284206\n",
      "tongue-left_hand_ch2-ch11 q=0.055417033714284206\n",
      "tongue-left_hand_ch7-ch11 q=0.05591150809454203\n",
      "tongue-feet_ch2-ch14 q=0.0865837632849167\n",
      "tongue-feet_ch13-ch18 q=0.08496200404330465\n",
      "tongue-right_hand_ch0-ch8 q=0.04719585241507853\n",
      "tongue-right_hand_ch10-ch14 q=0.049496088303282594\n",
      "tongue-feet_ch3-ch15 q=0.08616518199508913\n",
      "tongue-right_hand_ch1-ch8 q=0.08698212809209284\n",
      "right_hand-left_hand_ch14-ch20 q=0.04719585241507853\n",
      "tongue-left_hand_ch6-ch19 q=0.053502466022898265\n",
      "right_hand-left_hand_ch9-ch16 q=0.058882243023440875\n",
      "right_hand-left_hand_ch15-ch16 q=0.06610516205464327\n",
      "tongue-right_hand_ch12-ch20 q=0.09649518129685478\n",
      "tongue-left_hand_ch9-ch19 q=0.05297455807124829\n",
      "right_hand-left_hand_ch8-ch11 q=0.07751763364951855\n",
      "right_hand-left_hand_ch10-ch17 q=0.08496200404330465\n",
      "tongue-right_hand_ch0-ch9 q=0.04719585241507853\n",
      "feet-left_hand_ch7-ch17 q=0.048192045779187245\n",
      "right_hand-left_hand_ch9-ch21 q=0.07972872280118505\n",
      "tongue-left_hand_ch10-ch13 q=0.06876101874430161\n",
      "tongue-right_hand_ch0-ch7 q=0.05183288686805621\n",
      "tongue-feet_ch8-ch16 q=0.053502466022898265\n",
      "tongue-feet_ch3-ch14 q=0.08007943235310788\n",
      "tongue-right_hand_ch7-ch18 q=0.04719585241507853\n",
      "tongue-right_hand_ch4-ch7 q=0.058882243023440875\n",
      "tongue-right_hand_ch5-ch20 q=0.048192045779187245\n",
      "right_hand-feet_ch3-ch13 q=0.048192045779187245\n",
      "tongue-right_hand_ch5-ch19 q=0.048192045779187245\n",
      "tongue-feet_ch8-ch18 q=0.08874664917784392\n",
      "feet-left_hand_ch7-ch20 q=0.04719585241507853\n",
      "tongue-feet_ch13-ch20 q=0.09119098212095933\n",
      "tongue-right_hand_ch3-ch6 q=0.09525479694740047\n",
      "feet-left_hand_ch8-ch12 q=0.07644919495621129\n",
      "tongue-left_hand_ch13-ch15 q=0.055417033714284206\n",
      "feet-left_hand_ch8-ch20 q=0.051111747077499485\n",
      "right_hand-left_hand_ch1-ch11 q=0.05591150809454203\n",
      "tongue-left_hand_ch7-ch17 q=0.049496088303282594\n",
      "feet-left_hand_ch0-ch11 q=0.048192045779187245\n",
      "tongue-left_hand_ch0-ch14 q=0.04719585241507853\n",
      "feet-left_hand_ch4-ch14 q=0.07972872280118505\n",
      "tongue-right_hand_ch2-ch20 q=0.06320452403037022\n",
      "tongue-left_hand_ch7-ch19 q=0.04719585241507853\n",
      "tongue-left_hand_ch2-ch9 q=0.07715063513560808\n",
      "tongue-right_hand_ch10-ch13 q=0.06068248276825027\n",
      "right_hand-left_hand_ch2-ch11 q=0.055417033714284206\n",
      "feet-left_hand_ch4-ch11 q=0.06876101874430161\n",
      "tongue-right_hand_ch2-ch16 q=0.055417033714284206\n",
      "tongue-right_hand_ch11-ch19 q=0.05297455807124829\n",
      "feet-left_hand_ch9-ch18 q=0.08159738974649473\n",
      "tongue-left_hand_ch10-ch16 q=0.0675725794917623\n",
      "tongue-left_hand_ch7-ch9 q=0.05905087439315886\n",
      "right_hand-feet_ch1-ch13 q=0.057649933419161664\n",
      "tongue-left_hand_ch3-ch8 q=0.049496088303282594\n",
      "right_hand-feet_ch0-ch14 q=0.04719585241507853\n",
      "tongue-right_hand_ch7-ch9 q=0.05297455807124829\n",
      "right_hand-left_hand_ch8-ch20 q=0.048192045779187245\n",
      "tongue-right_hand_ch4-ch9 q=0.05113437058948\n",
      "tongue-left_hand_ch5-ch21 q=0.0788428761215495\n",
      "tongue-left_hand_ch4-ch8 q=0.048192045779187245\n",
      "tongue-left_hand_ch4-ch16 q=0.05297455807124829\n",
      "tongue-right_hand_ch7-ch14 q=0.048192045779187245\n",
      "tongue-right_hand_ch0-ch4 q=0.04719585241507853\n",
      "tongue-right_hand_ch2-ch13 q=0.058882243023440875\n",
      "tongue-feet_ch1-ch14 q=0.08507735210442448\n",
      "tongue-left_hand_ch12-ch13 q=0.07042813087968013\n",
      "tongue-feet_ch7-ch14 q=0.08744901155678447\n",
      "tongue-right_hand_ch1-ch14 q=0.04719585241507853\n",
      "feet-left_hand_ch8-ch17 q=0.05251339525158213\n",
      "tongue-right_hand_ch6-ch16 q=0.0998787158970359\n",
      "tongue-left_hand_ch8-ch20 q=0.05216066857787409\n",
      "tongue-left_hand_ch16-ch18 q=0.07034302813625275\n",
      "feet-left_hand_ch5-ch17 q=0.058351773773880566\n",
      "tongue-left_hand_ch9-ch20 q=0.055417033714284206\n",
      "tongue-left_hand_ch5-ch14 q=0.04836734333760968\n",
      "tongue-left_hand_ch4-ch20 q=0.05362670103472386\n",
      "tongue-right_hand_ch3-ch7 q=0.053502466022898265\n",
      "tongue-left_hand_ch1-ch18 q=0.04719585241507853\n",
      "right_hand-left_hand_ch8-ch21 q=0.057984791482426974\n",
      "tongue-feet_ch11-ch14 q=0.09895230752647602\n",
      "tongue-right_hand_ch6-ch19 q=0.08496200404330465\n",
      "tongue-right_hand_ch1-ch9 q=0.08568225445662624\n",
      "tongue-right_hand_ch11-ch16 q=0.055417033714284206\n",
      "tongue-left_hand_ch8-ch12 q=0.08873233786676277\n",
      "tongue-right_hand_ch13-ch16 q=0.09695088892631828\n",
      "right_hand-feet_ch6-ch9 q=0.06068248276825027\n",
      "right_hand-left_hand_ch2-ch17 q=0.055417033714284206\n",
      "tongue-feet_ch16-ch18 q=0.07042813087968013\n",
      "tongue-feet_ch0-ch14 q=0.09328684685631977\n",
      "tongue-feet_ch7-ch15 q=0.06848437371195858\n",
      "tongue-feet_ch6-ch18 q=0.09901537949225428\n",
      "tongue-right_hand_ch9-ch18 q=0.07010936392229138\n",
      "right_hand-left_hand_ch9-ch11 q=0.059388698363678626\n",
      "tongue-feet_ch2-ch15 q=0.08496200404330465\n",
      "right_hand-feet_ch2-ch7 q=0.053502466022898265\n",
      "tongue-left_hand_ch7-ch20 q=0.04719585241507853\n",
      "tongue-left_hand_ch2-ch17 q=0.049496088303282594\n",
      "right_hand-left_hand_ch8-ch19 q=0.055417033714284206\n",
      "tongue-left_hand_ch2-ch13 q=0.053502466022898265\n",
      "feet-left_hand_ch11-ch14 q=0.05879747214004505\n",
      "tongue-left_hand_ch8-ch16 q=0.048192045779187245\n",
      "tongue-left_hand_ch3-ch13 q=0.05251339525158213\n",
      "tongue-feet_ch14-ch16 q=0.055417033714284206\n",
      "right_hand-feet_ch3-ch18 q=0.08159738974649473\n",
      "feet-left_hand_ch10-ch11 q=0.09895230752647602\n",
      "right_hand-feet_ch4-ch14 q=0.05819849651619003\n",
      "tongue-right_hand_ch3-ch13 q=0.053502466022898265\n",
      "tongue-right_hand_ch9-ch14 q=0.05175540090353908\n",
      "feet-left_hand_ch0-ch13 q=0.06628137383212482\n",
      "right_hand-feet_ch3-ch4 q=0.06958342460421132\n",
      "tongue-right_hand_ch0-ch13 q=0.05113437058948\n",
      "tongue-feet_ch1-ch7 q=0.053502466022898265\n",
      "tongue-left_hand_ch2-ch14 q=0.04719585241507853\n",
      "feet-left_hand_ch0-ch16 q=0.04719585241507853\n",
      "tongue-left_hand_ch3-ch21 q=0.0568861646000693\n",
      "feet-left_hand_ch2-ch17 q=0.04719585241507853\n",
      "tongue-feet_ch2-ch18 q=0.0984696255367511\n",
      "feet-left_hand_ch9-ch10 q=0.07284939473874263\n",
      "right_hand-left_hand_ch2-ch21 q=0.07972872280118505\n",
      "tongue-left_hand_ch4-ch18 q=0.04836734333760968\n",
      "tongue-left_hand_ch2-ch12 q=0.08367949082840843\n",
      "tongue-right_hand_ch11-ch14 q=0.06322687402298854\n",
      "right_hand-left_hand_ch2-ch15 q=0.07877925891802483\n",
      "tongue-feet_ch4-ch9 q=0.06797826139886147\n",
      "right_hand-left_hand_ch0-ch11 q=0.06029937778373152\n",
      "feet-left_hand_ch2-ch12 q=0.056578559769165766\n",
      "tongue-feet_ch13-ch19 q=0.08367949082840843\n",
      "right_hand-left_hand_ch10-ch20 q=0.08367949082840843\n",
      "right_hand-left_hand_ch3-ch12 q=0.06231367303417653\n",
      "tongue-feet_ch7-ch10 q=0.07981989634893916\n",
      "right_hand-left_hand_ch1-ch3 q=0.05879747214004505\n",
      "tongue-left_hand_ch8-ch14 q=0.053502466022898265\n",
      "feet-left_hand_ch3-ch11 q=0.04719585241507853\n",
      "tongue-right_hand_ch13-ch19 q=0.09695088892631828\n",
      "tongue-feet_ch20-ch21 q=0.0664341473865557\n",
      "tongue-feet_ch7-ch20 q=0.07524823546670383\n",
      "feet-left_hand_ch0-ch18 q=0.09895230752647602\n",
      "feet-left_hand_ch7-ch11 q=0.055417033714284206\n",
      "tongue-feet_ch19-ch20 q=0.08159738974649473\n",
      "tongue-left_hand_ch5-ch15 q=0.055417033714284206\n",
      "feet-left_hand_ch0-ch7 q=0.06797826139886147\n",
      "tongue-left_hand_ch5-ch19 q=0.053502466022898265\n",
      "tongue-left_hand_ch0-ch13 q=0.04719585241507853\n",
      "tongue-feet_ch5-ch7 q=0.08193764018398424\n",
      "right_hand-left_hand_ch3-ch21 q=0.09134969942592691\n",
      "tongue-left_hand_ch14-ch20 q=0.055417033714284206\n",
      "tongue-left_hand_ch14-ch15 q=0.09895230752647602\n",
      "tongue-right_hand_ch4-ch6 q=0.09649518129685478\n",
      "tongue-right_hand_ch2-ch14 q=0.04719585241507853\n",
      "tongue-left_hand_ch1-ch16 q=0.04719585241507853\n",
      "tongue-left_hand_ch9-ch10 q=0.07284939473874263\n",
      "tongue-left_hand_ch7-ch10 q=0.05905087439315886\n",
      "tongue-left_hand_ch11-ch18 q=0.058351773773880566\n",
      "tongue-feet_ch0-ch7 q=0.055417033714284206\n",
      "right_hand-left_hand_ch3-ch16 q=0.08159738974649473\n",
      "right_hand-left_hand_ch9-ch20 q=0.053810339034957806\n",
      "right_hand-left_hand_ch9-ch17 q=0.06029937778373152\n",
      "tongue-left_hand_ch9-ch16 q=0.052361241976773214\n",
      "tongue-right_hand_ch4-ch15 q=0.04719585241507853\n",
      "right_hand-left_hand_ch6-ch17 q=0.049496088303282594\n",
      "tongue-left_hand_ch0-ch17 q=0.05183288686805621\n",
      "tongue-right_hand_ch16-ch19 q=0.07284939473874263\n",
      "right_hand-left_hand_ch5-ch11 q=0.08367949082840843\n",
      "tongue-left_hand_ch10-ch14 q=0.05113437058948\n",
      "tongue-right_hand_ch1-ch17 q=0.08616518199508913\n",
      "tongue-left_hand_ch8-ch17 q=0.055417033714284206\n",
      "feet-left_hand_ch7-ch16 q=0.049496088303282594\n",
      "tongue-right_hand_ch4-ch18 q=0.048192045779187245\n",
      "right_hand-feet_ch4-ch18 q=0.0723781560966154\n",
      "tongue-right_hand_ch0-ch16 q=0.04719585241507853\n",
      "tongue-left_hand_ch0-ch16 q=0.048192045779187245\n",
      "tongue-left_hand_ch1-ch14 q=0.04719585241507853\n",
      "feet-left_hand_ch12-ch14 q=0.08488816140014756\n",
      "feet-left_hand_ch3-ch20 q=0.055417033714284206\n",
      "tongue-feet_ch8-ch19 q=0.09477816188565098\n",
      "right_hand-left_hand_ch7-ch20 q=0.05251339525158213\n",
      "tongue-left_hand_ch6-ch17 q=0.059388698363678626\n",
      "tongue-right_hand_ch6-ch13 q=0.055417033714284206\n",
      "tongue-left_hand_ch6-ch20 q=0.055417033714284206\n",
      "feet-left_hand_ch0-ch20 q=0.055417033714284206\n",
      "tongue-right_hand_ch2-ch7 q=0.055417033714284206\n",
      "tongue-left_hand_ch9-ch15 q=0.04719585241507853\n",
      "feet-left_hand_ch11-ch15 q=0.058882243023440875\n",
      "tongue-left_hand_ch13-ch17 q=0.055417033714284206\n",
      "tongue-left_hand_ch1-ch21 q=0.053502466022898265\n",
      "tongue-right_hand_ch10-ch19 q=0.055417033714284206\n",
      "feet-left_hand_ch3-ch16 q=0.04754199183409279\n",
      "tongue-right_hand_ch7-ch13 q=0.05216066857787409\n",
      "tongue-feet_ch0-ch13 q=0.09895230752647602\n",
      "tongue-left_hand_ch12-ch18 q=0.08922546282597801\n",
      "tongue-right_hand_ch11-ch15 q=0.07815615272163791\n",
      "feet-left_hand_ch8-ch11 q=0.056651496513356055\n",
      "feet-left_hand_ch7-ch15 q=0.09525479694740047\n",
      "tongue-left_hand_ch1-ch10 q=0.0568861646000693\n",
      "tongue-right_hand_ch10-ch20 q=0.09725142373033907\n",
      "feet-left_hand_ch7-ch19 q=0.055417033714284206\n",
      "tongue-left_hand_ch10-ch18 q=0.057649933419161664\n",
      "right_hand-left_hand_ch9-ch10 q=0.07780993563082413\n",
      "tongue-left_hand_ch1-ch19 q=0.04719585241507853\n",
      "tongue-right_hand_ch3-ch5 q=0.057649933419161664\n",
      "right_hand-feet_ch9-ch14 q=0.055417033714284206\n",
      "tongue-left_hand_ch5-ch13 q=0.053502466022898265\n",
      "tongue-right_hand_ch2-ch8 q=0.04719585241507853\n",
      "tongue-left_hand_ch5-ch18 q=0.05216066857787409\n",
      "feet-left_hand_ch10-ch17 q=0.058351773773880566\n",
      "right_hand-left_hand_ch0-ch12 q=0.058351773773880566\n",
      "tongue-left_hand_ch4-ch15 q=0.048192045779187245\n",
      "feet-left_hand_ch9-ch16 q=0.04754199183409279\n",
      "right_hand-feet_ch4-ch7 q=0.08874664917784392\n",
      "tongue-left_hand_ch0-ch11 q=0.05251339525158213\n",
      "right_hand-feet_ch2-ch13 q=0.059388698363678626\n",
      "right_hand-left_hand_ch2-ch12 q=0.05879747214004505\n",
      "tongue-left_hand_ch10-ch19 q=0.055417033714284206\n",
      "tongue-left_hand_ch2-ch10 q=0.04719585241507853\n",
      "tongue-right_hand_ch1-ch20 q=0.055417033714284206\n",
      "feet-left_hand_ch1-ch17 q=0.048192045779187245\n",
      "tongue-left_hand_ch17-ch18 q=0.057649933419161664\n",
      "tongue-feet_ch14-ch15 q=0.0741704219918801\n",
      "right_hand-feet_ch4-ch13 q=0.055352055688294294\n",
      "feet-left_hand_ch2-ch10 q=0.055417033714284206\n",
      "tongue-left_hand_ch4-ch13 q=0.05432897176590327\n",
      "feet-left_hand_ch11-ch17 q=0.09300259228318071\n",
      "tongue-left_hand_ch4-ch17 q=0.05591150809454203\n",
      "tongue-feet_ch1-ch18 q=0.08507371251515257\n",
      "tongue-right_hand_ch5-ch21 q=0.08527672875481494\n",
      "tongue-right_hand_ch4-ch19 q=0.04719585241507853\n",
      "tongue-left_hand_ch8-ch11 q=0.06231367303417653\n",
      "tongue-right_hand_ch0-ch2 q=0.08159738974649473\n",
      "feet-left_hand_ch8-ch10 q=0.07972872280118505\n",
      "tongue-right_hand_ch0-ch20 q=0.05183288686805621\n",
      "tongue-left_hand_ch1-ch15 q=0.04719585241507853\n",
      "tongue-left_hand_ch3-ch9 q=0.048192045779187245\n",
      "tongue-right_hand_ch0-ch15 q=0.04719585241507853\n",
      "tongue-left_hand_ch7-ch13 q=0.055417033714284206\n",
      "tongue-left_hand_ch14-ch16 q=0.05216066857787409\n",
      "tongue-left_hand_ch16-ch19 q=0.06322687402298854\n",
      "right_hand-left_hand_ch15-ch17 q=0.07123340138452157\n",
      "tongue-right_hand_ch7-ch8 q=0.060529056613294156\n",
      "tongue-left_hand_ch10-ch20 q=0.06169561743988931\n",
      "tongue-left_hand_ch2-ch21 q=0.055417033714284206\n",
      "tongue-left_hand_ch12-ch14 q=0.07186609000384782\n",
      "tongue-left_hand_ch9-ch13 q=0.06744349018900736\n",
      "tongue-right_hand_ch4-ch17 q=0.09695088892631828\n",
      "tongue-left_hand_ch11-ch13 q=0.058351773773880566\n",
      "feet-left_hand_ch14-ch20 q=0.053502466022898265\n",
      "right_hand-left_hand_ch2-ch10 q=0.05297455807124829\n",
      "feet-left_hand_ch5-ch16 q=0.06231367303417653\n",
      "tongue-left_hand_ch7-ch12 q=0.0664341473865557\n",
      "right_hand-feet_ch0-ch7 q=0.05560254405994242\n",
      "tongue-left_hand_ch17-ch19 q=0.058351773773880566\n",
      "tongue-left_hand_ch3-ch11 q=0.053502466022898265\n",
      "tongue-left_hand_ch0-ch12 q=0.0788428761215495\n",
      "tongue-feet_ch4-ch16 q=0.09695088892631828\n",
      "feet-left_hand_ch4-ch16 q=0.058351773773880566\n",
      "feet-left_hand_ch13-ch21 q=0.08873233786676277\n",
      "tongue-feet_ch1-ch19 q=0.09347771308737776\n",
      "tongue-left_hand_ch4-ch11 q=0.06684420965372873\n",
      "right_hand-feet_ch7-ch8 q=0.055417033714284206\n",
      "tongue-left_hand_ch5-ch20 q=0.055417033714284206\n",
      "feet-left_hand_ch9-ch19 q=0.05591150809454203\n",
      "tongue-left_hand_ch9-ch21 q=0.09695088892631828\n",
      "tongue-left_hand_ch13-ch19 q=0.053502466022898265\n",
      "tongue-left_hand_ch6-ch18 q=0.06445432354581046\n",
      "tongue-left_hand_ch1-ch12 q=0.09649518129685478\n",
      "right_hand-left_hand_ch2-ch5 q=0.08367949082840843\n",
      "tongue-left_hand_ch9-ch14 q=0.053502466022898265\n",
      "right_hand-left_hand_ch2-ch20 q=0.05113437058948\n",
      "tongue-left_hand_ch4-ch14 q=0.04719585241507853\n",
      "tongue-left_hand_ch9-ch17 q=0.05550415733554677\n",
      "tongue-left_hand_ch3-ch10 q=0.048192045779187245\n",
      "tongue-right_hand_ch12-ch18 q=0.08367949082840843\n",
      "feet-left_hand_ch10-ch20 q=0.09548234001508858\n",
      "tongue-right_hand_ch3-ch20 q=0.053502466022898265\n",
      "tongue-feet_ch5-ch14 q=0.08922546282597801\n",
      "tongue-feet_ch0-ch6 q=0.08922546282597801\n",
      "tongue-right_hand_ch7-ch20 q=0.05591150809454203\n",
      "feet-left_hand_ch0-ch17 q=0.04719585241507853\n",
      "right_hand-left_hand_ch9-ch12 q=0.08712927538899817\n",
      "feet-left_hand_ch11-ch13 q=0.07026995413404331\n",
      "feet-left_hand_ch13-ch17 q=0.05905087439315886\n",
      "tongue-feet_ch2-ch16 q=0.09695088892631828\n",
      "tongue-left_hand_ch0-ch8 q=0.04719585241507853\n",
      "tongue-left_hand_ch1-ch20 q=0.04719585241507853\n",
      "tongue-right_hand_ch12-ch19 q=0.08507371251515257\n",
      "tongue-feet_ch7-ch18 q=0.055417033714284206\n",
      "right_hand-left_hand_ch8-ch15 q=0.07042813087968013\n",
      "feet-left_hand_ch0-ch10 q=0.05560254405994242\n",
      "tongue-left_hand_ch7-ch16 q=0.04719585241507853\n",
      "tongue-left_hand_ch15-ch16 q=0.059388698363678626\n",
      "tongue-right_hand_ch17-ch20 q=0.053502466022898265\n",
      "feet-left_hand_ch6-ch17 q=0.06797826139886147\n",
      "right_hand-left_hand_ch8-ch12 q=0.08744901155678447\n",
      "feet-left_hand_ch9-ch20 q=0.05251339525158213\n",
      "tongue-left_hand_ch5-ch8 q=0.055417033714284206\n",
      "tongue-right_hand_ch6-ch18 q=0.058882243023440875\n",
      "feet-left_hand_ch5-ch8 q=0.08527672875481494\n",
      "tongue-left_hand_ch18-ch20 q=0.055417033714284206\n",
      "tongue-feet_ch0-ch2 q=0.05113437058948\n",
      "tongue-left_hand_ch5-ch7 q=0.0568861646000693\n",
      "tongue-right_hand_ch11-ch12 q=0.05216066857787409\n",
      "right_hand-left_hand_ch3-ch17 q=0.06848437371195858\n",
      "tongue-feet_ch4-ch18 q=0.08507735210442448\n",
      "tongue-left_hand_ch1-ch17 q=0.048192045779187245\n",
      "right_hand-left_hand_ch4-ch17 q=0.09128723166302306\n",
      "tongue-right_hand_ch2-ch19 q=0.05216066857787409\n",
      "tongue-left_hand_ch5-ch9 q=0.09695088892631828\n",
      "tongue-right_hand_ch7-ch19 q=0.048192045779187245\n",
      "right_hand-left_hand_ch15-ch19 q=0.07397521136058288\n",
      "feet-left_hand_ch9-ch12 q=0.06903164959372593\n",
      "right_hand-feet_ch0-ch18 q=0.05560254405994242\n",
      "tongue-feet_ch7-ch19 q=0.055417033714284206\n",
      "tongue-left_hand_ch8-ch15 q=0.049496088303282594\n",
      "tongue-right_hand_ch11-ch21 q=0.09895230752647602\n",
      "right_hand-left_hand_ch2-ch16 q=0.053502466022898265\n",
      "right_hand-left_hand_ch9-ch19 q=0.08159738974649473\n",
      "right_hand-feet_ch7-ch9 q=0.05113437058948\n",
      "feet-left_hand_ch2-ch19 q=0.08367949082840843\n",
      "right_hand-feet_ch0-ch13 q=0.04719585241507853\n",
      "right_hand-left_hand_ch1-ch16 q=0.055417033714284206\n",
      "tongue-feet_ch2-ch7 q=0.07042813087968013\n",
      "tongue-feet_ch1-ch13 q=0.08367949082840843\n",
      "feet-left_hand_ch1-ch12 q=0.09695088892631828\n",
      "tongue-feet_ch17-ch20 q=0.09695088892631828\n",
      "feet-left_hand_ch2-ch11 q=0.049496088303282594\n",
      "tongue-right_hand_ch4-ch13 q=0.055417033714284206\n",
      "tongue-left_hand_ch2-ch18 q=0.04719585241507853\n",
      "tongue-right_hand_ch11-ch18 q=0.055417033714284206\n",
      "tongue-feet_ch15-ch16 q=0.07284939473874263\n",
      "feet-left_hand_ch3-ch14 q=0.09353428667091465\n",
      "tongue-feet_ch2-ch4 q=0.04836734333760968\n",
      "tongue-left_hand_ch11-ch17 q=0.09695088892631828\n",
      "right_hand-feet_ch3-ch6 q=0.06029937778373152\n",
      "tongue-left_hand_ch0-ch19 q=0.04719585241507853\n",
      "tongue-right_hand_ch5-ch18 q=0.049496088303282594\n",
      "tongue-right_hand_ch3-ch9 q=0.04719585241507853\n",
      "feet-left_hand_ch0-ch19 q=0.08159738974649473\n",
      "right_hand-left_hand_ch8-ch17 q=0.055417033714284206\n",
      "right_hand-left_hand_ch0-ch17 q=0.08159738974649473\n",
      "feet-left_hand_ch8-ch19 q=0.06628137383212482\n",
      "tongue-feet_ch1-ch16 q=0.09695088892631828\n",
      "tongue-left_hand_ch10-ch17 q=0.07972872280118505\n",
      "right_hand-left_hand_ch14-ch21 q=0.058882243023440875\n",
      "tongue-right_hand_ch8-ch9 q=0.09477835986063012\n"
     ]
    }
   ],
   "source": [
    "for i, (condition, p_value) in enumerate(results.items()):\n",
    "    if(reject[i]):\n",
    "        print(\"{0} q={1}\".format(condition, q_value[i]))"
   ]
  },
  {
   "cell_type": "code",
   "execution_count": 18,
   "metadata": {
    "collapsed": true
   },
   "outputs": [],
   "source": [
    "def plot_corr(epochs, event1, event2, ch1, ch2):\n",
    "    df, event1, event2, title = make_comparable_data(epochs, event1, event2, ch1, ch2)\n",
    "    ax = sns.pointplot(\"condition\", y=\"z_score\", data=df2sns(df, event1, event2))\n",
    "    palette = sns.color_palette(\"Set1\", n_colors=len(df))\n",
    "    for i in range(len(df)):\n",
    "        data = srs2sns(df.ix[i], event1, event2)\n",
    "        sns.stripplot(x=\"condition\", y=\"z_score\", data=data, color=palette[i])\n",
    "    ax.set_title(\" \"+title)"
   ]
  },
  {
   "cell_type": "markdown",
   "metadata": {},
   "source": [
    "有意差がでたチャンネルの組み合わせ\n",
    "\n",
    "図を見ると信頼区間が重なっていますが、それでも有意差が出るときはあるようです\n",
    "\n",
    "参考 [http://id.fnshr.info/2014/12/17/stats-done-wrong-06/](http://id.fnshr.info/2014/12/17/stats-done-wrong-06/)"
   ]
  },
  {
   "cell_type": "code",
   "execution_count": 19,
   "metadata": {},
   "outputs": [
    {
     "data": {
      "image/png": "[encoded data removed]",
      "text/plain": [
       "<matplotlib.figure.Figure at 0x7f4224446588>"
      ]
     },
     "metadata": {},
     "output_type": "display_data"
    }
   ],
   "source": [
    "plot_corr(epochs, \"tongue\", \"right_hand\", 5, 16)"
   ]
  },
  {
   "cell_type": "code",
   "execution_count": 20,
   "metadata": {},
   "outputs": [
    {
     "data": {
      "image/png": "[encoded data removed]",
      "text/plain": [
       "<matplotlib.figure.Figure at 0x7f42244bc438>"
      ]
     },
     "metadata": {},
     "output_type": "display_data"
    }
   ],
   "source": [
    "plot_corr(epochs, \"feet\", \"right_hand\", 3, 7)"
   ]
  },
  {
   "cell_type": "code",
   "execution_count": 21,
   "metadata": {},
   "outputs": [
    {
     "data": {
      "image/png": "[encoded data removed]",
      "text/plain": [
       "<matplotlib.figure.Figure at 0x7f4224cee898>"
      ]
     },
     "metadata": {},
     "output_type": "display_data"
    }
   ],
   "source": [
    "plot_corr(epochs, \"feet\", \"left_hand\", 9, 16)"
   ]
  },
  {
   "cell_type": "code",
   "execution_count": 22,
   "metadata": {},
   "outputs": [
    {
     "data": {
      "image/png": "[encoded data removed]",
      "text/plain": [
       "<matplotlib.figure.Figure at 0x7f42260b7390>"
      ]
     },
     "metadata": {},
     "output_type": "display_data"
    }
   ],
   "source": [
    "plot_corr(epochs, \"right_hand\", \"left_hand\", 3, 16)"
   ]
  },
  {
   "cell_type": "code",
   "execution_count": 23,
   "metadata": {},
   "outputs": [
    {
     "data": {
      "image/png": "[encoded data removed]",
      "text/plain": [
       "<matplotlib.figure.Figure at 0x7f419f705ac8>"
      ]
     },
     "metadata": {},
     "output_type": "display_data"
    }
   ],
   "source": [
    "plot_corr(epochs, \"tongue\", \"left_hand\", 3, 20)"
   ]
  },
  {
   "cell_type": "markdown",
   "metadata": {},
   "source": [
    "### 分類器の作成"
   ]
  },
  {
   "cell_type": "code",
   "execution_count": 117,
   "metadata": {},
   "outputs": [
    {
     "data": {
      "text/plain": [
       "336"
      ]
     },
     "execution_count": 117,
     "metadata": {},
     "output_type": "execute_result"
    }
   ],
   "source": [
    "# 教師データ\n",
    "y_train = []\n",
    "for epoch in epochs[:1]:\n",
    "    y_train = y_train + list(epoch.events[:,2])\n",
    "len(y_train)"
   ]
  },
  {
   "cell_type": "code",
   "execution_count": 47,
   "metadata": {},
   "outputs": [],
   "source": [
    "def get_corarr(signal):\n",
    "    ch_num = 22\n",
    "    corarr = []\n",
    "    for ch1,ch2 in itertools.combinations(range(ch_num),2):\n",
    "        r = max(correlate(signal[ch1], signal[ch2])) / (np.linalg.norm(signal[ch1])*np.linalg.norm(signal[ch2]))\n",
    "        if r < 0.95:\n",
    "            val = 0\n",
    "        else:\n",
    "            val = 1\n",
    "        corarr.append(r)\n",
    "    return corarr"
   ]
  },
  {
   "cell_type": "code",
   "execution_count": 113,
   "metadata": {},
   "outputs": [
    {
     "data": {
      "text/plain": [
       "336"
      ]
     },
     "execution_count": 113,
     "metadata": {},
     "output_type": "execute_result"
    }
   ],
   "source": [
    "# 学習データ\n",
    "X_train = []\n",
    "for epoch in epochs[:1]:\n",
    "    for signals in epoch.get_data():\n",
    "        colvec = np.array(get_corarr(signals[:,750:1250]))\n",
    "        colvec_normed = (colvec - colvec.mean()) / colvec.std()\n",
    "        X_train.append(colvec_normed)\n",
    "len(X_train)"
   ]
  },
  {
   "cell_type": "code",
   "execution_count": 114,
   "metadata": {},
   "outputs": [],
   "source": [
    "from sklearn import svm\n",
    "clf = svm.SVC(C=100, cache_size=200, class_weight=\"balanced\", \\\n",
    "                          coef0=0.0, gamma=\"auto\", kernel=\"rbf\", \\\n",
    "                          max_iter=-1, probability=False,random_state=None, \\\n",
    "                          shrinking=True, tol=0.001, verbose=False, decision_function_shape='ovr')"
   ]
  },
  {
   "cell_type": "markdown",
   "metadata": {},
   "source": [
    "まずは交差検定法による精度測定"
   ]
  },
  {
   "cell_type": "code",
   "execution_count": 124,
   "metadata": {},
   "outputs": [
    {
     "name": "stdout",
     "output_type": "stream",
     "text": [
      "0.622222222222\n"
     ]
    }
   ],
   "source": [
    "from sklearn import cross_validation\n",
    "Xc_train, Xc_test, yc_train, yc_test = cross_validation.train_test_split(X_train, y_train, test_size=0.4, random_state=None)\n",
    "clf.fit(Xc_train, yc_train)\n",
    "print(clf.score(Xc_test, yc_test))"
   ]
  },
  {
   "cell_type": "markdown",
   "metadata": {},
   "source": [
    "テスト用データの読み込み"
   ]
  },
  {
   "cell_type": "code",
   "execution_count": 29,
   "metadata": {},
   "outputs": [
    {
     "name": "stdout",
     "output_type": "stream",
     "text": [
      "Creating RawArray with float64 data, n_channels=25, n_times=677145\n",
      "    Range : 0 ... 677144 =      0.000 ...  2708.576 secs\n",
      "Ready.\n",
      "336 matching events found\n",
      "0 projection items activated\n",
      "Loading data for 336 events and 1501 original time points ...\n",
      "0 bad epochs dropped\n",
      "Creating RawArray with float64 data, n_channels=25, n_times=677145\n",
      "    Range : 0 ... 677144 =      0.000 ...  2708.576 secs\n",
      "Ready.\n",
      "336 matching events found\n",
      "0 projection items activated\n",
      "Loading data for 336 events and 1501 original time points ...\n",
      "0 bad epochs dropped\n",
      "Creating RawArray with float64 data, n_channels=25, n_times=677145\n",
      "    Range : 0 ... 677144 =      0.000 ...  2708.576 secs\n",
      "Ready.\n",
      "336 matching events found\n",
      "0 projection items activated\n",
      "Loading data for 336 events and 1501 original time points ...\n",
      "0 bad epochs dropped\n",
      "Creating RawArray with float64 data, n_channels=25, n_times=677145\n",
      "    Range : 0 ... 677144 =      0.000 ...  2708.576 secs\n",
      "Ready.\n",
      "336 matching events found\n",
      "0 projection items activated\n",
      "Loading data for 336 events and 1501 original time points ...\n",
      "0 bad epochs dropped\n",
      "Creating RawArray with float64 data, n_channels=25, n_times=677145\n",
      "    Range : 0 ... 677144 =      0.000 ...  2708.576 secs\n",
      "Ready.\n",
      "336 matching events found\n",
      "0 projection items activated\n",
      "Loading data for 336 events and 1501 original time points ...\n",
      "0 bad epochs dropped\n",
      "Creating RawArray with float64 data, n_channels=25, n_times=677145\n",
      "    Range : 0 ... 677144 =      0.000 ...  2708.576 secs\n",
      "Ready.\n",
      "336 matching events found\n",
      "0 projection items activated\n",
      "Loading data for 336 events and 1501 original time points ...\n",
      "0 bad epochs dropped\n",
      "Creating RawArray with float64 data, n_channels=25, n_times=677145\n",
      "    Range : 0 ... 677144 =      0.000 ...  2708.576 secs\n",
      "Ready.\n",
      "336 matching events found\n",
      "0 projection items activated\n",
      "Loading data for 336 events and 1501 original time points ...\n",
      "0 bad epochs dropped\n",
      "Creating RawArray with float64 data, n_channels=25, n_times=677145\n",
      "    Range : 0 ... 677144 =      0.000 ...  2708.576 secs\n",
      "Ready.\n",
      "336 matching events found\n",
      "0 projection items activated\n",
      "Loading data for 336 events and 1501 original time points ...\n",
      "0 bad epochs dropped\n",
      "Creating RawArray with float64 data, n_channels=25, n_times=677145\n",
      "    Range : 0 ... 677144 =      0.000 ...  2708.576 secs\n",
      "Ready.\n",
      "336 matching events found\n",
      "0 projection items activated\n",
      "Loading data for 336 events and 1501 original time points ...\n",
      "0 bad epochs dropped\n"
     ]
    }
   ],
   "source": [
    "subjects = ['A01E', 'A02E', 'A03E', 'A04E', 'A05E', 'A06E', 'A07E', 'A08E', 'A09E']\n",
    "epochs_test = [0] * len(subjects)\n",
    "for (i, subject) in enumerate(subjects):\n",
    "    events = pd.read_csv('./datasets/events_'+subject+'.csv', header=None)\n",
    "    events = np.array(events.astype(int))\n",
    "    eegs = pd.read_csv('./datasets/eeg_'+subject+'.csv', header=None)\n",
    "    raw = mne.io.array.RawArray(eegs, info)\n",
    "    epochs_test[i] = mne.Epochs(raw, events, event_id, tmin=0.0, tmax=6.0, baseline=(None,0), preload=True, add_eeg_ref=False)"
   ]
  },
  {
   "cell_type": "code",
   "execution_count": 76,
   "metadata": {},
   "outputs": [
    {
     "data": {
      "text/plain": [
       "3024"
      ]
     },
     "execution_count": 76,
     "metadata": {},
     "output_type": "execute_result"
    }
   ],
   "source": [
    "# 正解データ\n",
    "y_test = []\n",
    "for epoch in epochs_test:\n",
    "    y_test = y_test + list(epoch.events[:,2])\n",
    "len(y_test)"
   ]
  },
  {
   "cell_type": "code",
   "execution_count": 74,
   "metadata": {},
   "outputs": [
    {
     "data": {
      "text/plain": [
       "3024"
      ]
     },
     "execution_count": 74,
     "metadata": {},
     "output_type": "execute_result"
    }
   ],
   "source": [
    "# テストデータ\n",
    "X_test = []\n",
    "for epoch in epochs_test:\n",
    "    for signals in epoch.get_data():\n",
    "        colvec = np.array(get_corarr(signals[:,750:1250]))\n",
    "        colvec_normed = (colvec - colvec.mean()) / colvec.std()\n",
    "        X_test.append(colvec_normed)\n",
    "len(X_test)"
   ]
  },
  {
   "cell_type": "code",
   "execution_count": 87,
   "metadata": {},
   "outputs": [
    {
     "data": {
      "text/plain": [
       "0.41699735449735448"
      ]
     },
     "execution_count": 87,
     "metadata": {},
     "output_type": "execute_result"
    }
   ],
   "source": [
    "clf.score(X_test, y_test)"
   ]
  },
  {
   "cell_type": "code",
   "execution_count": null,
   "metadata": {
    "collapsed": true
   },
   "outputs": [],
   "source": []
  }
 ],
 "metadata": {
  "kernelspec": {
   "display_name": "Python 3",
   "language": "python",
   "name": "python3"
  },
  "language_info": {
   "codemirror_mode": {
    "name": "ipython",
    "version": 3
   },
   "file_extension": ".py",
   "mimetype": "text/x-python",
   "name": "python",
   "nbconvert_exporter": "python",
   "pygments_lexer": "ipython3",
   "version": "3.6.1"
  }
 },
 "nbformat": 4,
 "nbformat_minor": 1
}
